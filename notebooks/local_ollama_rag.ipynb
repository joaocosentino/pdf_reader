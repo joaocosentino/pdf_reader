{
 "cells": [
  {
   "cell_type": "code",
   "execution_count": 2,
   "id": "bcbe3dac",
   "metadata": {},
   "outputs": [
    {
     "name": "stdout",
     "output_type": "stream",
     "text": [
      "../chromadb\n"
     ]
    }
   ],
   "source": [
    "from dotenv import load_dotenv\n",
    "import chromadb\n",
    "import os\n",
    "\n",
    "load_dotenv('../.env.local')\n",
    "storage_path = '../'+os.getenv('STORAGE_PATH')\n",
    "print(storage_path)"
   ]
  },
  {
   "cell_type": "code",
   "execution_count": 3,
   "id": "38119195-9c91-4e58-aa46-8a74244032af",
   "metadata": {
    "scrolled": true
   },
   "outputs": [],
   "source": [
    "from IPython.display import display, Markdown\n",
    "def view_text_in_markdown(page_content):\n",
    "    display(Markdown(page_content))"
   ]
  },
  {
   "cell_type": "markdown",
   "id": "c2faacc1-be29-4d52-a46e-94f5b5b8e728",
   "metadata": {},
   "source": [
    "## Vector Embeddings"
   ]
  },
  {
   "cell_type": "code",
   "execution_count": 4,
   "id": "83a39856-0cc0-4ebe-8024-9db32455a545",
   "metadata": {},
   "outputs": [],
   "source": [
    "from langchain_community.embeddings import OllamaEmbeddings\n",
    "from langchain_community.vectorstores import Chroma"
   ]
  },
  {
   "cell_type": "code",
   "execution_count": 5,
   "id": "a46d31a3",
   "metadata": {},
   "outputs": [],
   "source": [
    "embeddings = OllamaEmbeddings(model=\"nomic-embed-text\", show_progress=True)\n",
    "\n",
    "def get_vector_store(collection_name):\n",
    "  persistent_client = chromadb.PersistentClient(path='../chromadb')\n",
    "  return Chroma(client=persistent_client,\n",
    "                embedding_function=embeddings,\n",
    "                collection_name=collection_name)"
   ]
  },
  {
   "cell_type": "code",
   "execution_count": 7,
   "id": "efb11c92-e732-4a88-8f57-57a19b38e383",
   "metadata": {},
   "outputs": [
    {
     "name": "stderr",
     "output_type": "stream",
     "text": [
      "/tmp/ipykernel_118456/3805566098.py:5: LangChainDeprecationWarning: The class `Chroma` was deprecated in LangChain 0.2.9 and will be removed in 1.0. An updated version of the class exists in the langchain-chroma package and should be used instead. To use it run `pip install -U langchain-chroma` and import as `from langchain_chroma import Chroma`.\n",
      "  return Chroma(client=persistent_client,\n"
     ]
    }
   ],
   "source": [
    "# Load vector database\n",
    "vector_db = get_vector_store('short_manual')"
   ]
  },
  {
   "cell_type": "code",
   "execution_count": 8,
   "id": "78ca2c4d",
   "metadata": {},
   "outputs": [],
   "source": [
    "retriever = vector_db.as_retriever()"
   ]
  },
  {
   "cell_type": "code",
   "execution_count": 9,
   "id": "aab5314e",
   "metadata": {},
   "outputs": [
    {
     "name": "stderr",
     "output_type": "stream",
     "text": [
      "OllamaEmbeddings: 100%|██████████| 1/1 [00:00<00:00,  3.23it/s]\n"
     ]
    },
    {
     "data": {
      "text/plain": [
       "[Document(metadata={'source': 'pdf_files/owner_manual_p283-p300.pdf'}, page_content='data that will assist in understanding how a vehicle’s systems performed under certain crash or near crash- like situations, such as an air bag deployment or hitting a road obstacle >> page 268.'),\n",
       " Document(metadata={'source': 'pdf_files/owner_manual_p283-p300.pdf'}, page_content='data that will assist in understanding how a vehicle’s systems performed under certain crash or near crash- like situations, such as an air bag deployment or hitting a road obstacle >> page 268.'),\n",
       " Document(metadata={'source': 'pdf_files/owner_manual_p283-p300.pdf'}, page_content=\"damage, or even failure, of the axle and tires. A\\n\\ntire could explode and injure someone. Do not spin your vehicle's wheels faster than 30 mph (48 km/h) or for longer than 30 seconds continuously without stopping when you are stuck and do not let anyone near a spinning wheel, no matter what the speed.\\n\\nTOWING A DISABLED VEHICLE\\n\\nThis section describes procedures for towing a disabled vehicle using a commercial towing service.\\n\\nIf the transmission and drivetrain are operable, disabled vehicles may also be towed as described on\\n\\n> page 198.\\n\\nNOTE:\\n\\nVehicles equipped with the Active-Level Four Corner Air Suspension System must be placed in Transport mode, before tying them down (from the body) on a trailer\\n\\nor flatbed truck > page 136. If the vehicle cannot\"),\n",
       " Document(metadata={'source': 'pdf_files/owner_manual_p283-p300.pdf'}, page_content=\"damage, or even failure, of the axle and tires. A\\n\\ntire could explode and injure someone. Do not spin your vehicle's wheels faster than 30 mph (48 km/h) or for longer than 30 seconds continuously without stopping when you are stuck and do not let anyone near a spinning wheel, no matter what the speed.\\n\\nTOWING A DISABLED VEHICLE\\n\\nThis section describes procedures for towing a disabled vehicle using a commercial towing service.\\n\\nIf the transmission and drivetrain are operable, disabled vehicles may also be towed as described on\\n\\n> page 198.\\n\\nNOTE:\\n\\nVehicles equipped with the Active-Level Four Corner Air Suspension System must be placed in Transport mode, before tying them down (from the body) on a trailer\\n\\nor flatbed truck > page 136. If the vehicle cannot\")]"
      ]
     },
     "execution_count": 9,
     "metadata": {},
     "output_type": "execute_result"
    }
   ],
   "source": [
    "retriever.invoke('What is this document about?')"
   ]
  },
  {
   "cell_type": "markdown",
   "id": "39eadf50-2f3d-4420-8858-94e9c1682ffa",
   "metadata": {},
   "source": [
    "## Retrieval"
   ]
  },
  {
   "cell_type": "code",
   "execution_count": 7,
   "id": "5ec338c4-f282-462f-b0a0-c1899538eb07",
   "metadata": {},
   "outputs": [],
   "source": [
    "from langchain.prompts import ChatPromptTemplate, PromptTemplate\n",
    "from langchain_core.output_parsers import StrOutputParser\n",
    "from langchain_community.chat_models import ChatOllama\n",
    "from langchain_core.runnables import RunnablePassthrough\n",
    "from langchain.retrievers.multi_query import MultiQueryRetriever"
   ]
  },
  {
   "cell_type": "code",
   "execution_count": 8,
   "id": "d1d6ceeb-6883-4688-b923-e771c2b2cb07",
   "metadata": {},
   "outputs": [],
   "source": [
    "# LLM from Ollama\n",
    "local_model = \"mistral\"\n",
    "llm = ChatOllama(model=local_model)"
   ]
  },
  {
   "cell_type": "code",
   "execution_count": 9,
   "id": "c436d5cd-5dd0-448c-b5c0-6eddab879c2a",
   "metadata": {},
   "outputs": [],
   "source": [
    "QUERY_PROMPT = PromptTemplate(\n",
    "    input_variables=[\"question\"],\n",
    "    template=\"\"\"You will impersonate the owner's manual of the RAM 1500 vehicle, model year 2025, Crew Cab version. The answers should be as close to the source as possible.\n",
    "    Your task is to generate five different versions of the given user question to retrieve relevant documents\n",
    "    from a vector database. By generating multiple perspectives on the user question, your\n",
    "    goal is to help the user overcome some of the limitations of the distance-based\n",
    "    similarity search. Provide these alternative questions separated by newlines.\n",
    "    Original question: {question}\"\"\",\n",
    ")"
   ]
  },
  {
   "cell_type": "code",
   "execution_count": 10,
   "id": "71e423dc-f632-46f8-9bec-d74cb268ab74",
   "metadata": {},
   "outputs": [],
   "source": [
    "retriever = MultiQueryRetriever.from_llm(\n",
    "    vector_db.as_retriever(), \n",
    "    llm,\n",
    "    prompt=QUERY_PROMPT\n",
    ")\n",
    "\n",
    "# RAG prompt\n",
    "template = \"\"\"Answer the question based ONLY on the following context:\n",
    "{context}\n",
    "Question: {question}\n",
    "\"\"\"\n",
    "\n",
    "prompt = ChatPromptTemplate.from_template(template)"
   ]
  },
  {
   "cell_type": "code",
   "execution_count": 20,
   "id": "ccf48ac0",
   "metadata": {},
   "outputs": [
    {
     "name": "stderr",
     "output_type": "stream",
     "text": [
      "OllamaEmbeddings: 100%|██████████| 1/1 [00:00<00:00,  6.86it/s]\n",
      "OllamaEmbeddings: 100%|██████████| 1/1 [00:00<00:00, 13.31it/s]\n",
      "OllamaEmbeddings: 100%|██████████| 1/1 [00:00<00:00,  5.94it/s]\n",
      "OllamaEmbeddings: 100%|██████████| 1/1 [00:00<00:00, 16.96it/s]\n",
      "OllamaEmbeddings: 100%|██████████| 1/1 [00:00<00:00,  7.58it/s]\n"
     ]
    }
   ],
   "source": [
    "retrieve_docs = retriever.invoke('What is the vehicle line') # get relevant documents"
   ]
  },
  {
   "cell_type": "code",
   "execution_count": 21,
   "id": "8c37da79",
   "metadata": {},
   "outputs": [
    {
     "data": {
      "text/plain": [
       "[]"
      ]
     },
     "execution_count": 21,
     "metadata": {},
     "output_type": "execute_result"
    }
   ],
   "source": [
    "# small doc\n",
    "retrieve_docs"
   ]
  },
  {
   "cell_type": "code",
   "execution_count": 18,
   "id": "9b7a54f6",
   "metadata": {},
   "outputs": [
    {
     "data": {
      "text/plain": [
       "[Document(metadata={'source': '../pdf_files/owner_manual_p283-p300.pdf'}, page_content='282 IN CASE OF EMERGENCY\\n\\nIN CASE OF EMERGENCY\\n\\nHAZARD WARNING FLASHERS\\n\\nThe Hazard Warning Flashers button is located on the upper switch bank just below the radio.\\n\\nHazard Warning Flashers Button\\n\\nNOTE:\\n\\nIf your vehicle is equipped with a 12-inch Uconnect display, the Hazard Warning Flashers button is located above the display.\\n\\nHazard Warning Flashers Button with 12-inch display\\n\\nNOTE:\\n\\nIf your vehicle is equipped with a 14.5-inch Uconnect display, the Hazard Warning Flashers button is located to the left of the display.\\n\\nHazard Warning Flashers Button with 14.5-inch display'),\n",
       " Document(metadata={'source': '../pdf_files/Owners_Manual-Ram_1500_25_Crew_Cab.pdf'}, page_content='SAFETY\\n\\n281\\n\\n282 IN CASE OF EMERGENCY\\n\\nIN CASE OF EMERGENCY\\n\\nHAZARD WARNING FLASHERS\\n\\nThe Hazard Warning Flashers button is located on the upper switch bank just below the radio.\\n\\nHazard Warning Flashers Button\\n\\nNOTE:\\n\\nIf your vehicle is equipped with a 12-inch Uconnect display, the Hazard Warning Flashers button is located above the display.\\n\\nHazard Warning Flashers Button with 12-inch display\\n\\nNOTE:\\n\\nIf your vehicle is equipped with a 14.5-inch Uconnect display, the Hazard Warning Flashers button is located to the left of the display.\\n\\nHazard Warning Flashers Button with 14.5-inch display'),\n",
       " Document(metadata={'source': '../pdf_files/owner_manual_p283-p300.pdf'}, page_content='Hazard Warning Flashers Button with 14.5-inch display\\n\\nPush the button to turn on the Hazard Warning Flashers. When the button is activated, all directional turn signals will flash on and off to warn oncoming, traffic of an emergency. Push the button a second time ‘to turn off the Hazard Warning Flashers.\\n\\nThis is an emergency warning system and it should not be used when the vehicle is in motion. Use only when your vehicle is disabled or signaling a safety hazard warning for other motorists.\\n\\nWhen leaving the vehicle to seek assistance, the\\n\\nHazard Warning Flashers will continue to operate even though the ignition is placed in the OFF position.\\n\\nNOTE: With extended use the Hazard Warning Flashers may wear down your battery.\\n\\nASSIST AND SOS SYSTEM — IF EQUIPPED\\n\\n‘A0703000080US'),\n",
       " Document(metadata={'source': '../pdf_files/Owners_Manual-Ram_1500_25_Crew_Cab.pdf'}, page_content='Hazard Warning Flashers Button with 14.5-inch display\\n\\nPush the button to turn on the Hazard Warning Flashers. When the button is activated, all directional turn signals will flash on and off to warn oncoming, traffic of an emergency. Push the button a second time ‘to turn off the Hazard Warning Flashers.\\n\\nThis is an emergency warning system and it should not be used when the vehicle is in motion. Use only when your vehicle is disabled or signaling a safety hazard warning for other motorists.\\n\\nWhen leaving the vehicle to seek assistance, the\\n\\nHazard Warning Flashers will continue to operate even though the ignition is placed in the OFF position.\\n\\nNOTE: With extended use the Hazard Warning Flashers may wear down your battery.\\n\\nASSIST AND SOS SYSTEM — IF EQUIPPED\\n\\n‘A0703000080US'),\n",
       " Document(metadata={'source': '../pdf_files/Owners_Manual-Ram_1500_25_Crew_Cab.pdf'}, page_content='The auxiliary switches manage the relays that power four or six blunt cut wires. These wires are located under the hood to the right, near the battery.\\n\\nIn addition to the four or six auxiliary switch wires, a fused battery wire and ignition wire are also found in this location.\\n\\nSERVICING AND MAINTENANCE 327\\n\\nA kit of splices and heat shrink tubing are provided with the auxiliary switches to aid in the connection/ installation of your electrical devices.\\n\\nFuse And Wire Color Chart\\n\\nNOTE:\\n\\nFuses for the auxiliary switches can be found in the auxiliary Power Distribution Center (PDC), located in the engine compartment toward the front of the vehicle, in front of the main PDC. Remove upper shield to access. If equipped, additional auxiliary switch fuses will be located in the main PDC.'),\n",
       " Document(metadata={'source': '../pdf_files/Owners_Manual-Ram_1500_25_Crew_Cab.pdf'}, page_content='TuRN SIGNALS\\n\\nMove the multifunction lever up or down to activate the turn signals. The arrows on each side of the instrument cluster flash to show proper operation.\\n\\nNOTE: @ If either light remains on and does not flash, or there\\n\\nis a very fast flash rate, check for a defective outside light bulb.\\n\\n@ For information on Turn Signal Activated Blind Spot Assist (if equipped), see > page 244. Lane CHANGE Assist — IF EquipPED\\n\\nLightly push the multifunction lever up or down, without moving beyond the detent, and the turn signal will flash three times then automatically turn off.\\n\\nCargo LiGHTs/TRAILER SPOTTER LIGHTS/ TRAILER HitcH Light With BeD Lights — IF EquippeD'),\n",
       " Document(metadata={'source': '../pdf_files/Owners_Manual-Ram_1500_25_Crew_Cab.pdf'}, page_content='Interior Power Distribution Center\\n\\nThe Power Distribution Center is located under the driver’s side instrument panel. This center contains\\n\\ncartridge fuses, micro fuses, relays, and circuit breakers.\\n\\nSee the following steps for accessing the interior fuses:\\n\\n1. Locate and remove the two screws from the lower portion of the fuse panel cover.\\n\\nInterior Fuse Box Location\\n\\ncover. Fuse Panel Screw Locations 2. After removing the screws, gently pull both the left Fuse Cover Panel and right side of the fuse panel cover to release the fastener clips. Internal Fuse Chart Cavity Cartridge Fuse Micro Fuse Description * If Equipped\\n\\nFOL 30 Amp Pink - Assy Trailer Tow Receptacle\\n\\nFO2 30 Amp Pink - Mod Memory Seat Driver/ Power Seat Driver FO3 - - Spare\\n\\nFO4 - 5 Amp Tan Smart Door Handle Drvr'),\n",
       " Document(metadata={'source': '../pdf_files/Owners_Manual-Ram_1500_25_Crew_Cab.pdf'}, page_content='< side of the vehicle where the fuel door is located.\\n\\n4. Tachometer\\n\\n@ Indicates the engine speed in revolutions per minute (RPM x 1000). 5. Instrument Cluster Display\\n\\n@ The instrument cluster display features a driver interactive display SQ page 104.\\n\\nNOTE: The hard telltales will illuminate for a bulb check when the ignition is first cycled.\\n\\nINSTRUMENT CLUSTER DISPLAY\\n\\nDepending on your vehicle’s trim level, features and options may vary.\\n\\nYour vehicle will be equipped with an instrument cluster display, which offers useful information to the driver. With the ignition in the OFF mode, opening/closing'),\n",
       " Document(metadata={'source': '../pdf_files/Owners_Manual-Ram_1500_25_Crew_Cab.pdf'}, page_content='1. Place the ignition in the ON/RUN position, without starting the engine.\\n\\n2. Push and hold the desired HomeLink® button until the HomeLink® indicator light begins to flash after 20 seconds. Do not release the button.\\n\\n3. Without releasing the button, proceed with Step 2 in “Programming HomeLink® To A Garage Door Opener” > page 48, and follow all remaining steps.\\n\\nGETTING TO KNOW YOUR VEHICLE 49\\n\\nCANADIAN/GaTE OPERATOR PROGRAMMING\\n\\nFor programming transmitters in Canada/United States that require the transmitter signals to “time-out” after several seconds of transmission:\\n\\nCanadian Radio Frequency (RF) laws require transmitter signals to time-out (or quit) after several seconds'),\n",
       " Document(metadata={'source': '../pdf_files/Owners_Manual-Ram_1500_25_Crew_Cab.pdf'}, page_content='To Turn Off The Engine Using The ENGINE START/STOP. Button\\n\\n1. Place the gear selector in PARK, then push and release the ENGINE START/STOP button. The ignition will return to the OFF position.\\n\\n2. If the gear selector is not in PARK, the ENGINE START/STOP button must be held for two seconds or three short pushes in a row with the vehicle speed above 5 mph (8 km/h) before the engine will shut off. The ignition will remain on until the\\n\\n124 STARTING AND OPERATING\\n\\ngear selector is in PARK and the button is pushed twice to the OFF position.'),\n",
       " Document(metadata={'source': '../pdf_files/Owners_Manual-Ram_1500_25_Crew_Cab.pdf'}, page_content=\"gear selector is in PARK and the button is pushed twice to the OFF position.\\n\\n3. If the gear selector is not in PARK and the ENGINE START/STOP button is pushed once with the vehicle speed above 5 mph (8 km/h), the instrument cluster will display a “Vehicle Not In Park” message and the engine will remain running. Never leave a vehicle out of the PARK position, or it could roll.\\n\\nNOTE:\\n\\nIf the gear selector is not in PARK, and the ENGINE START/STOP button is pushed once with the vehicle speed below 5 mph (8 km/h), the engine will shut off and the ignition will remain on. If vehicle speed drops. below 1.2 mph (1.9 km/h), the vehicle may AutoPark ) page 122.\\n\\nENGINE START/STOP Button Functions — With Driver's Foot Off The Brake Pedal (In PARK Or NEUTRAL Position)\")]"
      ]
     },
     "execution_count": 18,
     "metadata": {},
     "output_type": "execute_result"
    }
   ],
   "source": [
    "# big doc\n",
    "retrieve_docs"
   ]
  },
  {
   "cell_type": "code",
   "execution_count": 19,
   "id": "97d912fb",
   "metadata": {},
   "outputs": [
    {
     "data": {
      "text/plain": [
       "11"
      ]
     },
     "execution_count": 19,
     "metadata": {},
     "output_type": "execute_result"
    }
   ],
   "source": [
    "len(retrieve_docs)"
   ]
  },
  {
   "cell_type": "code",
   "execution_count": 20,
   "id": "d784e8b9",
   "metadata": {},
   "outputs": [
    {
     "data": {
      "text/markdown": [
       "SAFETY\n",
       "\n",
       "281\n",
       "\n",
       "282 IN CASE OF EMERGENCY\n",
       "\n",
       "IN CASE OF EMERGENCY\n",
       "\n",
       "HAZARD WARNING FLASHERS\n",
       "\n",
       "The Hazard Warning Flashers button is located on the upper switch bank just below the radio.\n",
       "\n",
       "Hazard Warning Flashers Button\n",
       "\n",
       "NOTE:\n",
       "\n",
       "If your vehicle is equipped with a 12-inch Uconnect display, the Hazard Warning Flashers button is located above the display.\n",
       "\n",
       "Hazard Warning Flashers Button with 12-inch display\n",
       "\n",
       "NOTE:\n",
       "\n",
       "If your vehicle is equipped with a 14.5-inch Uconnect display, the Hazard Warning Flashers button is located to the left of the display.\n",
       "\n",
       "Hazard Warning Flashers Button with 14.5-inch display"
      ],
      "text/plain": [
       "<IPython.core.display.Markdown object>"
      ]
     },
     "metadata": {},
     "output_type": "display_data"
    }
   ],
   "source": [
    "view_text_in_markdown(retrieve_docs[1].page_content)"
   ]
  },
  {
   "cell_type": "code",
   "execution_count": 15,
   "id": "cb1f308f-8472-4506-9517-d79b61d408f2",
   "metadata": {},
   "outputs": [],
   "source": [
    "chain = (\n",
    "    {\"context\": retriever, \"question\": RunnablePassthrough()}\n",
    "    | prompt\n",
    "    | llm\n",
    "    | StrOutputParser()\n",
    ")"
   ]
  },
  {
   "cell_type": "code",
   "execution_count": 16,
   "id": "06c25c1d-d205-409e-90a2-179d0bd7c41a",
   "metadata": {},
   "outputs": [
    {
     "name": "stderr",
     "output_type": "stream",
     "text": [
      "OllamaEmbeddings: 100%|██████████| 1/1 [00:00<00:00,  7.54it/s]\n",
      "OllamaEmbeddings: 100%|██████████| 1/1 [00:00<00:00, 14.98it/s]\n",
      "OllamaEmbeddings: 100%|██████████| 1/1 [00:00<00:00,  5.69it/s]\n",
      "OllamaEmbeddings: 100%|██████████| 1/1 [00:00<00:00, 12.24it/s]\n",
      "OllamaEmbeddings: 100%|██████████| 1/1 [00:00<00:00,  8.42it/s]\n"
     ]
    },
    {
     "data": {
      "text/markdown": [
       " Based on the provided context, there's no information about a location of a \"hazard flashers button.\" This question cannot be answered."
      ],
      "text/plain": [
       "<IPython.core.display.Markdown object>"
      ]
     },
     "metadata": {},
     "output_type": "display_data"
    }
   ],
   "source": [
    "resposta = chain.invoke(\"Where is located the hazard flashers button?\")\n",
    "view_text_in_markdown(resposta)"
   ]
  },
  {
   "cell_type": "code",
   "execution_count": 31,
   "id": "c4d1a1a6",
   "metadata": {},
   "outputs": [
    {
     "name": "stderr",
     "output_type": "stream",
     "text": [
      "OllamaEmbeddings: 100%|██████████| 1/1 [00:00<00:00,  8.26it/s]\n",
      "OllamaEmbeddings: 100%|██████████| 1/1 [00:00<00:00, 14.69it/s]\n",
      "OllamaEmbeddings: 100%|██████████| 1/1 [00:00<00:00,  5.21it/s]\n",
      "OllamaEmbeddings: 100%|██████████| 1/1 [00:00<00:00, 10.15it/s]\n",
      "OllamaEmbeddings: 100%|██████████| 1/1 [00:00<00:00,  8.54it/s]\n"
     ]
    },
    {
     "data": {
      "text/markdown": [
       "1. Roadside Assistance\n",
       "  2. Brand Connect Customer Care (If available)\n",
       "  3. Vehicle Customer Care\n",
       "  4. Uconnect Customer Care"
      ],
      "text/plain": [
       "<IPython.core.display.Markdown object>"
      ]
     },
     "metadata": {},
     "output_type": "display_data"
    }
   ],
   "source": [
    "resposta = chain.invoke(\"Please list all the support centers that assist button can connect\")\n",
    "view_text_in_markdown(resposta)"
   ]
  },
  {
   "cell_type": "code",
   "execution_count": 24,
   "id": "59b54e32",
   "metadata": {},
   "outputs": [
    {
     "name": "stderr",
     "output_type": "stream",
     "text": [
      "OllamaEmbeddings: 100%|██████████| 1/1 [00:00<00:00,  3.03it/s]\n",
      "OllamaEmbeddings: 100%|██████████| 1/1 [00:00<00:00, 52.69it/s]\n",
      "OllamaEmbeddings: 100%|██████████| 1/1 [00:00<00:00,  5.29it/s]\n",
      "OllamaEmbeddings: 100%|██████████| 1/1 [00:00<00:00, 12.23it/s]\n",
      "OllamaEmbeddings: 100%|██████████| 1/1 [00:00<00:00,  5.57it/s]\n"
     ]
    },
    {
     "data": {
      "text/markdown": [
       "1. Roadside Assistance\n",
       "  2. Brand Connect Customer Care (If available)\n",
       "  3. Vehicle Customer Care\n",
       "  4. Uconnect Customer Care"
      ],
      "text/plain": [
       "<IPython.core.display.Markdown object>"
      ]
     },
     "metadata": {},
     "output_type": "display_data"
    }
   ],
   "source": [
    "resposta = chain.invoke(\"Please list all the support centers that assist button can connect\")\n",
    "view_text_in_markdown(resposta)"
   ]
  },
  {
   "cell_type": "code",
   "execution_count": 25,
   "id": "3e1f48d0",
   "metadata": {},
   "outputs": [
    {
     "name": "stderr",
     "output_type": "stream",
     "text": [
      "OllamaEmbeddings: 100%|██████████| 1/1 [00:00<00:00,  8.54it/s]\n",
      "OllamaEmbeddings: 100%|██████████| 1/1 [00:00<00:00, 13.80it/s]\n",
      "OllamaEmbeddings: 100%|██████████| 1/1 [00:00<00:00,  5.99it/s]\n",
      "OllamaEmbeddings: 100%|██████████| 1/1 [00:00<00:00, 10.89it/s]\n",
      "OllamaEmbeddings: 100%|██████████| 1/1 [00:00<00:00,  7.72it/s]\n"
     ]
    },
    {
     "data": {
      "text/markdown": [
       " The document does not specify an exact model or make of the vehicle, but based on the source file name, it appears to be a Ram 1500 25 Crew Cab vehicle."
      ],
      "text/plain": [
       "<IPython.core.display.Markdown object>"
      ]
     },
     "metadata": {},
     "output_type": "display_data"
    }
   ],
   "source": [
    "resposta = chain.invoke(\"This is an owner manual of a vehicle. Can you specify which vehicle?\")\n",
    "view_text_in_markdown(resposta)"
   ]
  },
  {
   "cell_type": "code",
   "execution_count": 26,
   "id": "c0e4ff08",
   "metadata": {},
   "outputs": [
    {
     "name": "stderr",
     "output_type": "stream",
     "text": [
      "OllamaEmbeddings: 100%|██████████| 1/1 [00:00<00:00,  6.60it/s]\n",
      "OllamaEmbeddings: 100%|██████████| 1/1 [00:00<00:00, 10.78it/s]\n",
      "OllamaEmbeddings: 100%|██████████| 1/1 [00:00<00:00,  4.86it/s]\n",
      "OllamaEmbeddings: 100%|██████████| 1/1 [00:00<00:00, 12.57it/s]\n",
      "OllamaEmbeddings: 100%|██████████| 1/1 [00:00<00:00,  8.50it/s]\n"
     ]
    },
    {
     "data": {
      "text/markdown": [
       " I can't definitively say which vehicle as the provided information does not contain enough details to identify a specific model. The given data are excerpts from the owner's manual of a Ram 1500 truck, but that's only one possibility among many vehicles with similar manuals."
      ],
      "text/plain": [
       "<IPython.core.display.Markdown object>"
      ]
     },
     "metadata": {},
     "output_type": "display_data"
    }
   ],
   "source": [
    "resposta = chain.invoke(\"Can you specify which vehicle?\")\n",
    "view_text_in_markdown(resposta)"
   ]
  },
  {
   "cell_type": "code",
   "execution_count": 27,
   "id": "dfe79f21-48aa-4820-aa9f-79f3d1a0a519",
   "metadata": {},
   "outputs": [],
   "source": [
    "# Delete all collections in the db\n",
    "vector_db.delete_collection()"
   ]
  }
 ],
 "metadata": {
  "kernelspec": {
   "display_name": "Python 3 (ipykernel)",
   "language": "python",
   "name": "python3"
  },
  "language_info": {
   "codemirror_mode": {
    "name": "ipython",
    "version": 3
   },
   "file_extension": ".py",
   "mimetype": "text/x-python",
   "name": "python",
   "nbconvert_exporter": "python",
   "pygments_lexer": "ipython3",
   "version": "3.10.12"
  }
 },
 "nbformat": 4,
 "nbformat_minor": 5
}
