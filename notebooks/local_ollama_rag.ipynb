{
 "cells": [
  {
   "cell_type": "code",
   "execution_count": 1,
   "id": "bcbe3dac",
   "metadata": {},
   "outputs": [
    {
     "name": "stdout",
     "output_type": "stream",
     "text": [
      "../chromadb\n"
     ]
    }
   ],
   "source": [
    "from dotenv import load_dotenv\n",
    "import chromadb\n",
    "import os\n",
    "\n",
    "load_dotenv('../.env.local')\n",
    "storage_path = '../'+os.getenv('STORAGE_PATH')\n",
    "print(storage_path)"
   ]
  },
  {
   "cell_type": "code",
   "execution_count": 2,
   "id": "38119195-9c91-4e58-aa46-8a74244032af",
   "metadata": {
    "scrolled": true
   },
   "outputs": [],
   "source": [
    "from IPython.display import display, Markdown\n",
    "def view_text_in_markdown(page_content):\n",
    "    display(Markdown(page_content))"
   ]
  },
  {
   "cell_type": "markdown",
   "id": "c2faacc1-be29-4d52-a46e-94f5b5b8e728",
   "metadata": {},
   "source": [
    "## Vector Embeddings"
   ]
  },
  {
   "cell_type": "code",
   "execution_count": 3,
   "id": "83a39856-0cc0-4ebe-8024-9db32455a545",
   "metadata": {},
   "outputs": [],
   "source": [
    "from langchain_community.embeddings import OllamaEmbeddings\n",
    "from langchain_community.vectorstores import Chroma"
   ]
  },
  {
   "cell_type": "code",
   "execution_count": 4,
   "id": "a46d31a3",
   "metadata": {},
   "outputs": [],
   "source": [
    "embeddings = OllamaEmbeddings(model=\"nomic-embed-text\", show_progress=True)\n",
    "\n",
    "def get_vector_store(collection_name):\n",
    "  persistent_client = chromadb.PersistentClient(path='../chromadb')\n",
    "  return Chroma(client=persistent_client,\n",
    "                embedding_function=embeddings,\n",
    "                collection_name=collection_name)"
   ]
  },
  {
   "cell_type": "code",
   "execution_count": 5,
   "id": "efb11c92-e732-4a88-8f57-57a19b38e383",
   "metadata": {},
   "outputs": [
    {
     "name": "stderr",
     "output_type": "stream",
     "text": [
      "/tmp/ipykernel_3885/3805566098.py:5: LangChainDeprecationWarning: The class `Chroma` was deprecated in LangChain 0.2.9 and will be removed in 1.0. An updated version of the class exists in the langchain-chroma package and should be used instead. To use it run `pip install -U langchain-chroma` and import as `from langchain_chroma import Chroma`.\n",
      "  return Chroma(client=persistent_client,\n"
     ]
    }
   ],
   "source": [
    "# Load vector database\n",
    "vector_db = get_vector_store('owner_manual')"
   ]
  },
  {
   "cell_type": "code",
   "execution_count": 6,
   "id": "78ca2c4d",
   "metadata": {},
   "outputs": [],
   "source": [
    "retriever = vector_db.as_retriever()"
   ]
  },
  {
   "cell_type": "code",
   "execution_count": 7,
   "id": "aab5314e",
   "metadata": {},
   "outputs": [
    {
     "name": "stderr",
     "output_type": "stream",
     "text": [
      "OllamaEmbeddings:   0%|          | 0/1 [00:00<?, ?it/s]"
     ]
    },
    {
     "name": "stderr",
     "output_type": "stream",
     "text": [
      "OllamaEmbeddings: 100%|██████████| 1/1 [00:07<00:00,  7.35s/it]\n"
     ]
    },
    {
     "data": {
      "text/plain": [
       "[Document(metadata={'source': 'pdf_files/Owners_Manual-Ram_1500_25_Crew_Cab.pdf'}, page_content=\"Diagnostic Procedure Manuals\\n\\nDiagnostic Procedure Manuals are filled with diagrams, charts and detailed illustrations. These manuals\\n\\nmake it easy to find and fix problems on computer- controlled vehicle systems and features. They show\\n\\nexactly how to find and correct problems, using step-by- step troubleshooting and drivability procedures, proven diagnostic tests and a complete list of all tools and equipment.\\n\\nTo order a digital copy of your Service or Diagnostic Procedure manuals, visit:\\n\\nwww.techauthority.com (US and Canada). Owner's Manuals\\n\\nThese Owner's Manuals have been prepared with the assistance of service and engineering specialists to acquaint you with specific FCA vehicles.\"),\n",
       " Document(metadata={'source': 'pdf_files/Owners_Manual-Ram_1500_25_Crew_Cab.pdf'}, page_content='The pretensioners are triggered by the Occupant Restraint Controller (ORC). Like the air bags, the pretensioners are single use items. A deployed pretensioner or a deployed air bag must be replaced immediately.\\n\\nEnergy Management Feature\\n\\nThe front and second row outboard seat belt systems are equipped with an Energy Management feature that may help further reduce the risk of injury in the event of a collision. The seat belt system has a retractor assembly that is designed to release webbing in a controlled manner.\\n\\nSwitchable Automatic Locking Retractors (ALR)\\n\\nThe seat belts in the passenger seating positions are equipped with a Switchable Automatic Locking'),\n",
       " Document(metadata={'source': 'pdf_files/Owners_Manual-Ram_1500_25_Crew_Cab.pdf'}, page_content='data that will assist in understanding how a vehicle’s systems performed under certain crash or near crash- like situations, such as an air bag deployment or hitting a road obstacle >> page 268.\\n\\nSERVICING AND MAINTENANCE 299\\n\\nSERVICING AND MAINTENANCE\\n\\nSCHEDULED SERVICING\\n\\nYour vehicle is equipped with an automatic oil change indicator system. The oil change indicator system will remind you that it is time to take your vehicle in for scheduled maintenance.'),\n",
       " Document(metadata={'source': 'pdf_files/Owners_Manual-Ram_1500_25_Crew_Cab.pdf'}, page_content='Position the lap belt snug and low below the abdomen and across the strong bones of the hips. Place the shoulder belt across the chest and away from the neck.\\n\\nNever place the shoulder belt behind the back or under the arm.\\n\\nSeat Belt Pretensioner\\n\\nThe front and second row outboard seat belt systems are equipped with pretensioning devices that are designed to remove slack from the seat belt in the event of a collision. These devices may improve the performance of the seat belt by removing slack from the seat belt early in a collision. Pretensioners work for all size occupants, including those in child restraints.\\n\\nNOTE:\\n\\nThese devices are not a substitute for proper seat belt placement by the occupant. The seat belt still must be worn snugly and positioned properly.')]"
      ]
     },
     "execution_count": 7,
     "metadata": {},
     "output_type": "execute_result"
    }
   ],
   "source": [
    "retriever.invoke('What is this document about?')"
   ]
  },
  {
   "cell_type": "markdown",
   "id": "39eadf50-2f3d-4420-8858-94e9c1682ffa",
   "metadata": {},
   "source": [
    "## Retrieval"
   ]
  },
  {
   "cell_type": "code",
   "execution_count": 8,
   "id": "5ec338c4-f282-462f-b0a0-c1899538eb07",
   "metadata": {},
   "outputs": [],
   "source": [
    "from langchain.prompts import ChatPromptTemplate, PromptTemplate\n",
    "from langchain_core.output_parsers import StrOutputParser\n",
    "from langchain_community.chat_models import ChatOllama\n",
    "from langchain_core.runnables import RunnablePassthrough\n",
    "from langchain.retrievers.multi_query import MultiQueryRetriever"
   ]
  },
  {
   "cell_type": "code",
   "execution_count": 9,
   "id": "d1d6ceeb-6883-4688-b923-e771c2b2cb07",
   "metadata": {},
   "outputs": [],
   "source": [
    "# LLM from Ollama\n",
    "local_model = \"mistral\"\n",
    "llm = ChatOllama(model=local_model)"
   ]
  },
  {
   "cell_type": "code",
   "execution_count": 10,
   "id": "c436d5cd-5dd0-448c-b5c0-6eddab879c2a",
   "metadata": {},
   "outputs": [],
   "source": [
    "QUERY_PROMPT = PromptTemplate(\n",
    "    input_variables=[\"question\"],\n",
    "    template=\"\"\"You will answer questions about information that can be found in the owner's manual of the RAM 1500 vehicle, model year 2025, Crew Cab version.\n",
    "    Your task is to generate five different versions of the given user question to retrieve relevant documents\n",
    "    from a vector database. By generating multiple perspectives on the user question, your\n",
    "    goal is to help the user overcome some of the limitations of the distance-based\n",
    "    similarity search. Provide these alternative questions separated by newlines.\n",
    "    Original question: {question}\"\"\",\n",
    ")"
   ]
  },
  {
   "cell_type": "code",
   "execution_count": 11,
   "id": "71e423dc-f632-46f8-9bec-d74cb268ab74",
   "metadata": {},
   "outputs": [],
   "source": [
    "retriever = MultiQueryRetriever.from_llm(\n",
    "    vector_db.as_retriever(), \n",
    "    llm,\n",
    "    prompt=QUERY_PROMPT\n",
    ")\n",
    "\n",
    "# RAG prompt\n",
    "template = \"\"\"Answer the question based ONLY on the following context:\n",
    "{context}\n",
    "Question: {question}\n",
    "\"\"\"\n",
    "\n",
    "prompt = ChatPromptTemplate.from_template(template)"
   ]
  },
  {
   "cell_type": "code",
   "execution_count": 12,
   "id": "ccf48ac0",
   "metadata": {},
   "outputs": [
    {
     "name": "stderr",
     "output_type": "stream",
     "text": [
      "OllamaEmbeddings: 100%|██████████| 1/1 [00:00<00:00,  3.39it/s]\n",
      "OllamaEmbeddings: 100%|██████████| 1/1 [00:00<00:00, 15.33it/s]\n",
      "OllamaEmbeddings: 100%|██████████| 1/1 [00:00<00:00,  7.22it/s]\n",
      "OllamaEmbeddings: 100%|██████████| 1/1 [00:00<00:00,  7.97it/s]\n",
      "OllamaEmbeddings: 100%|██████████| 1/1 [00:00<00:00,  7.50it/s]\n"
     ]
    }
   ],
   "source": [
    "retrieve_docs = retriever.invoke('What is the vehicle line') # get relevant documents"
   ]
  },
  {
   "cell_type": "code",
   "execution_count": 14,
   "id": "9b7a54f6",
   "metadata": {},
   "outputs": [
    {
     "data": {
      "text/plain": [
       "[Document(metadata={'source': 'pdf_files/Owners_Manual-Ram_1500_25_Crew_Cab.pdf'}, page_content='rear Gross Axle Weight Rating (GAWR), and Vehicle Identification Number (VIN). A Month-Day-Hour (MDH) number is included on this label and indicates the Month, Day and Hour of manufacture. The bar code that appears on the bottom of the label is your VIN.\\n\\nGross Vehicle Weight Rating (GVWR)\\n\\nThe GVWR is the total permissible weight of your vehicle including driver, passengers, vehicle, options and cargo. The label also specifies maximum capacities of front\\n\\nSTARTING AND OPERATING 185\\n\\nand rear GAWR. Total load must be limited so GVWR and front and rear GAWR are not exceeded.\\n\\nPayload\\n\\nThe payload of a vehicle is defined as the allowable load weight a truck can carry, including the weight of the driver, all passengers, options and cargo.\\n\\nGross Axle Weight Rating (GAWR)'),\n",
       " Document(metadata={'source': 'pdf_files/Owners_Manual-Ram_1500_25_Crew_Cab.pdf'}, page_content='IF YOU NEED ASSISTANCE . Roadside Assistance... FCA US LLC Customer Assistance Center.. 355 FCA Canada Customer Care. Mexico.\\n\\nContents 7\\n\\n355\\n\\nPuerto Rico And US Virgin Islands ... Customer Assistance For The Hearing Or Speech Impaired (TDD/TTY). Service Contract . WARRANTY INFORMATION MOPAR® PARTS REPORTING SAFETY DEFECTS .... In The 50 United States And Washington, D.C. In Canada ORDERING AND ACCESSING ADDITIONAL OWNER’S INFORMATION ..... CHANGE OF OWNERSHIP OR ADDRESS. GENERAL INFORMATION.....\\n\\n8 INTRODUCTION\\n\\nINTRODUCTION\\n\\nDear Customer, Congratulations on the purchase of your new Ram vehicle. Be assured that it represents precision workmanship, distinctive styling, and high quality.'),\n",
       " Document(metadata={'source': 'pdf_files/Owners_Manual-Ram_1500_25_Crew_Cab.pdf'}, page_content='@ The weight of the driver and all passengers.\\n\\nNOTE:\\n\\nRemember that everything put into or on the trailer adds to the load on your vehicle. Also, additional factory-installed options or dealer-installed options\\n\\nmust be considered as part of the total load\\n\\non your vehicle. Refer to the Tire And Loading Information Placard for the maximum combined weight of occupants and cargo for your vehicle.\\n\\nTRAILER HitcH Assist — IF EquipPeD Feature Overview\\n\\nTrailer Hitch Assist (THA) is a feature that assists the driver with lining up the trailer hitch ball to the trailer coupler. Using the rear camera and sensors the vehicle will automatically steer the vehicle while the driver controls the braking.\\n\\nBefore beginning the operation check the following:'),\n",
       " Document(metadata={'source': 'pdf_files/Owners_Manual-Ram_1500_25_Crew_Cab.pdf'}, page_content='ay BE\\n\\nbb “NI eH oy i Ss FBP PE PPEEPRE\\n\\n2 Contents\\n\\nINTRODUCTION SYMBOLS KEY..... VAN CONVERSIONS/CAMPERS CONSUMER INFORMATION — TRUCK-\\n\\nCAMPER LOADING. woe oo VEHICLE MODIFICATIONS/ALTERATIONS 44 SYMBOL GLOSSARY 44\\n\\nGETTING TO KNOW YOUR VEHICLE'),\n",
       " Document(metadata={'source': 'pdf_files/Owners_Manual-Ram_1500_25_Crew_Cab.pdf'}, page_content='Second Row 60/40 Folding Seat\\n\\nTo provide additional storage area, each rear seat can be folded up. This allows for extended cargo space, and can still maintain some rear seating room if needed.\\n\\nLift upward on one, or both portions of the seat cushion until it is flat against the seatback.\\n\\nRear Seats Folded\\n\\nFold the seat cushion down into its original position by pushing the seat cushion downward into place.\\n\\nPower ADJUSTMENT FRonT SEATS — IF EquipPep\\n\\nSome models may be equipped with 8-way or 24-way power driver and passenger seats.\\n\\nThe 8-way power seat switches are located on the outboard side of the driver and passenger seat cushions. There are two power seat switches that are used to control the movement of the seat cushion and the seatback.\\n\\n8-way Power Seat Switches'),\n",
       " Document(metadata={'source': 'pdf_files/Owners_Manual-Ram_1500_25_Crew_Cab.pdf'}, page_content=\"Aslide-in camper document is provided in your vehicle's glove compartment that contains your Vehicle Identification Number, truck model, cargo weight rating, and the forward/rearward limit of a camper. To obtain additional dimensional and technical specifications for your vehicle, please visit https://www.ramtrucks.com.\\n\\nFigure 4 illustrates the dimensions describing the forward and rearward limits of the zone in which the Center of Gravity (CG) of a slide-in camper must be located, to provide satisfactory vehicle handling and to prevent overload of the front and rear axles.\\n\\nFigure 2 illustrates a proper match between truck and camper.\\n\\nNOTE: The camper Center of Gravity falls within the specified zone.\\n\\n10 INTRODUCTION\\n\\nRECOMMENDED LOCATION FOR CARGO CENTER\"),\n",
       " Document(metadata={'source': 'pdf_files/Owners_Manual-Ram_1500_25_Crew_Cab.pdf'}, page_content='Aligning Gate To Slots\\n\\nRotate the side gates closed so that the outboard ends are secured into the intended slots of the bed.\\n\\nRotate the center handle horizontally to secure the side gates in the closed position.\\n\\nSide Gates Closed\\n\\nLock the center handle to secure the panel into place.\\n\\nGETTING TO KNOW YOUR VEHICLE 91\\n\\nStorage Position\\n\\nThe storage position for the bed divider is at the front of the truck bed which maximizes the bed cargo area when not in use.\\n\\nTo install the bed divider into the storage position,\\n\\nperform the same steps as you would for the divider position, except position the divider fully forward in the\\n\\nbed against the front panel.\\n\\nStorage Position\\n\\nThe outboard ends should be positioned in front of the cargo tie-down loops.\\n\\n92 GETTING TO KNOW YOUR VEHICLE'),\n",
       " Document(metadata={'source': 'pdf_files/Owners_Manual-Ram_1500_25_Crew_Cab.pdf'}, page_content='CAUTION!\\n\\n@ Ensure cargo bin lids are closed and latched before moving or driving vehicle.\\n\\nLoads applied to the top of the bin lid should be minimized to prevent damage to the lid and latching/hinging mechanisms.\\n\\n@ Damage to the RamBox bin may occur due to heavy/sharp objects placed in bin that shift due to vehicle motion. In order to minimize potential for damage, secure all cargo to prevent movement and protect inside surfaces of bin from heavy/ sharp objects with appropriate padding.\\n\\nRamBox Carco Storace Bins\\n\\nCargo storage bins are located on both sides of the pickup box. The cargo storage bins provide watertight, lockable, illuminated storage for up to 150 Ib (68 kg) of evenly distributed cargo.\\n\\nGETTING TO KNOW YOUR VEHICLE 89\\n\\nLO\\n\\nRamBox Cargo Storage Bins\\n\\nCAUTION!'),\n",
       " Document(metadata={'source': 'pdf_files/Owners_Manual-Ram_1500_25_Crew_Cab.pdf'}, page_content=\"BED 4A a\\n\\nCAMPER CENTER\\n\\nFigure 2\\n\\nRECOMMENDED CENTER OF GRAVITY LOCATION ZONE\\n\\nA0105000004US\\n\\nSecure loose items to prevent weight shifts that could affect the balance of your vehicle. When the truck camper is loaded, drive to a scale and weigh the front and rear wheels separately, to determine axle loads. Individual axle loads should not exceed either of the Gross Axle Weight Ratings (GAWR). The total of the axle loads should not exceed the Gross Vehicle Weight Rating (GVWR). If weight ratings are exceeded, move or remove items to get the total weight below the ratings.\\n\\nNOTE: These ratings are also provided on the Vehicle Certification Label located on the driver's side B-pillar. See > page 185 for more information.\"),\n",
       " Document(metadata={'source': 'pdf_files/Owners_Manual-Ram_1500_25_Crew_Cab.pdf'}, page_content='RamBox Drain Plug Removal\\n\\nNOTE:\\n\\nProvisions are provided in the bins for cargo dividers. These accessories (in addition to other RamBox accessories) are available from Mopar®.\\n\\nIf equipped, a 115 Volt (400 W maximum) inverter\\n\\nmay be located inside the RamBox of your vehicle.\\n\\nThe inverter can be turned on by the Instrument Panel Power Inverter switch located to the left of the steering wheel. The RamBox inverter can power cellular phones, electronics and other low power devices requiring power up to 400 W. Certain video game consoles exceed this power limit, as will most power tools.\\n\\n90 GETTING TO KNOW YOUR VEHICLE\\n\\nRamBox Sarety WARNING\\n\\nCarefully follow these warnings to help prevent personal injury or damage to your vehicle:\\n\\nRamBox Power Inverter'),\n",
       " Document(metadata={'source': 'pdf_files/Owners_Manual-Ram_1500_25_Crew_Cab.pdf'}, page_content='or by contacting your dealer.\\n\\nWhether it is providing information about specific product features, taking a tour through your vehicle’s heritage, knowing what steps to take following an accident or scheduling your next appointment, we know you will find the app an important extension of your Ram vehicle. Simply download the app, select your make | and enjoy the ride. To get this app, go directly to the App\\n\\nCo) Sa le) eer\\n\\niia)\\n\\n©2024 FCA US LLC. All Rights Reserved. Tous droits réservés. Ram is a registered trademark of FCA US LLC. Peat\\n\\nRam est une marque déposée de FCA US LLC. App Store is a registered trademark of Apple Inc. Google Play Store is a registered trademark of Google.'),\n",
       " Document(metadata={'source': 'pdf_files/Owners_Manual-Ram_1500_25_Crew_Cab.pdf'}, page_content='< side of the vehicle where the fuel door is located.\\n\\n4. Tachometer\\n\\n@ Indicates the engine speed in revolutions per minute (RPM x 1000). 5. Instrument Cluster Display\\n\\n@ The instrument cluster display features a driver interactive display SQ page 104.\\n\\nNOTE: The hard telltales will illuminate for a bulb check when the ignition is first cycled.\\n\\nINSTRUMENT CLUSTER DISPLAY\\n\\nDepending on your vehicle’s trim level, features and options may vary.\\n\\nYour vehicle will be equipped with an instrument cluster display, which offers useful information to the driver. With the ignition in the OFF mode, opening/closing')]"
      ]
     },
     "execution_count": 14,
     "metadata": {},
     "output_type": "execute_result"
    }
   ],
   "source": [
    "# big doc\n",
    "retrieve_docs"
   ]
  },
  {
   "cell_type": "code",
   "execution_count": 15,
   "id": "97d912fb",
   "metadata": {},
   "outputs": [
    {
     "data": {
      "text/plain": [
       "12"
      ]
     },
     "execution_count": 15,
     "metadata": {},
     "output_type": "execute_result"
    }
   ],
   "source": [
    "len(retrieve_docs)"
   ]
  },
  {
   "cell_type": "code",
   "execution_count": 16,
   "id": "d784e8b9",
   "metadata": {},
   "outputs": [
    {
     "data": {
      "text/markdown": [
       "IF YOU NEED ASSISTANCE . Roadside Assistance... FCA US LLC Customer Assistance Center.. 355 FCA Canada Customer Care. Mexico.\n",
       "\n",
       "Contents 7\n",
       "\n",
       "355\n",
       "\n",
       "Puerto Rico And US Virgin Islands ... Customer Assistance For The Hearing Or Speech Impaired (TDD/TTY). Service Contract . WARRANTY INFORMATION MOPAR® PARTS REPORTING SAFETY DEFECTS .... In The 50 United States And Washington, D.C. In Canada ORDERING AND ACCESSING ADDITIONAL OWNER’S INFORMATION ..... CHANGE OF OWNERSHIP OR ADDRESS. GENERAL INFORMATION.....\n",
       "\n",
       "8 INTRODUCTION\n",
       "\n",
       "INTRODUCTION\n",
       "\n",
       "Dear Customer, Congratulations on the purchase of your new Ram vehicle. Be assured that it represents precision workmanship, distinctive styling, and high quality."
      ],
      "text/plain": [
       "<IPython.core.display.Markdown object>"
      ]
     },
     "metadata": {},
     "output_type": "display_data"
    }
   ],
   "source": [
    "view_text_in_markdown(retrieve_docs[1].page_content)"
   ]
  },
  {
   "cell_type": "code",
   "execution_count": 17,
   "id": "cb1f308f-8472-4506-9517-d79b61d408f2",
   "metadata": {},
   "outputs": [],
   "source": [
    "chain = (\n",
    "    {\"context\": retriever, \"question\": RunnablePassthrough()}\n",
    "    | prompt\n",
    "    | llm\n",
    "    | StrOutputParser()\n",
    ")"
   ]
  },
  {
   "cell_type": "code",
   "execution_count": 18,
   "id": "06c25c1d-d205-409e-90a2-179d0bd7c41a",
   "metadata": {},
   "outputs": [
    {
     "name": "stderr",
     "output_type": "stream",
     "text": [
      "OllamaEmbeddings: 100%|██████████| 1/1 [00:00<00:00,  3.93it/s]\n",
      "OllamaEmbeddings: 100%|██████████| 1/1 [00:00<00:00, 14.13it/s]\n",
      "OllamaEmbeddings: 100%|██████████| 1/1 [00:00<00:00,  7.17it/s]\n",
      "OllamaEmbeddings: 100%|██████████| 1/1 [00:00<00:00,  9.35it/s]\n",
      "OllamaEmbeddings: 100%|██████████| 1/1 [00:00<00:00,  7.94it/s]\n"
     ]
    },
    {
     "data": {
      "text/markdown": [
       " The provided texts do not mention the location of the hazard flasher button. However, it's usually found on the stalk control located near the driver's side door where the turn signals are also located. In some vehicles, it may be a separate button or combined with the turn signal lever. Always refer to your vehicle's specific owner's manual for accurate information."
      ],
      "text/plain": [
       "<IPython.core.display.Markdown object>"
      ]
     },
     "metadata": {},
     "output_type": "display_data"
    }
   ],
   "source": [
    "resposta = chain.invoke(\"Where is located the hazard flashers button?\")\n",
    "view_text_in_markdown(resposta)"
   ]
  },
  {
   "cell_type": "code",
   "execution_count": 19,
   "id": "c4d1a1a6",
   "metadata": {},
   "outputs": [
    {
     "name": "stderr",
     "output_type": "stream",
     "text": [
      "OllamaEmbeddings: 100%|██████████| 1/1 [00:00<00:00,  7.77it/s]\n",
      "OllamaEmbeddings: 100%|██████████| 1/1 [00:00<00:00, 13.06it/s]\n",
      "OllamaEmbeddings: 100%|██████████| 1/1 [00:00<00:00,  5.35it/s]\n",
      "OllamaEmbeddings: 100%|██████████| 1/1 [00:00<00:00,  9.35it/s]\n",
      "OllamaEmbeddings: 100%|██████████| 1/1 [00:00<00:00,  7.21it/s]\n"
     ]
    },
    {
     "data": {
      "text/markdown": [
       "1. Brand Connect Customer Care (If available)\n",
       "  2. Vehicle Customer Care\n",
       "  3. Uconnect Customer Care"
      ],
      "text/plain": [
       "<IPython.core.display.Markdown object>"
      ]
     },
     "metadata": {},
     "output_type": "display_data"
    }
   ],
   "source": [
    "resposta = chain.invoke(\"Please list all the support centers that assist button can connect\")\n",
    "view_text_in_markdown(resposta)"
   ]
  },
  {
   "cell_type": "code",
   "execution_count": 24,
   "id": "59b54e32",
   "metadata": {},
   "outputs": [
    {
     "name": "stderr",
     "output_type": "stream",
     "text": [
      "OllamaEmbeddings: 100%|██████████| 1/1 [00:00<00:00,  3.03it/s]\n",
      "OllamaEmbeddings: 100%|██████████| 1/1 [00:00<00:00, 52.69it/s]\n",
      "OllamaEmbeddings: 100%|██████████| 1/1 [00:00<00:00,  5.29it/s]\n",
      "OllamaEmbeddings: 100%|██████████| 1/1 [00:00<00:00, 12.23it/s]\n",
      "OllamaEmbeddings: 100%|██████████| 1/1 [00:00<00:00,  5.57it/s]\n"
     ]
    },
    {
     "data": {
      "text/markdown": [
       "1. Roadside Assistance\n",
       "  2. Brand Connect Customer Care (If available)\n",
       "  3. Vehicle Customer Care\n",
       "  4. Uconnect Customer Care"
      ],
      "text/plain": [
       "<IPython.core.display.Markdown object>"
      ]
     },
     "metadata": {},
     "output_type": "display_data"
    }
   ],
   "source": [
    "resposta = chain.invoke(\"Please list all the support centers that assist button can connect\")\n",
    "view_text_in_markdown(resposta)"
   ]
  },
  {
   "cell_type": "code",
   "execution_count": 20,
   "id": "3e1f48d0",
   "metadata": {},
   "outputs": [
    {
     "name": "stderr",
     "output_type": "stream",
     "text": [
      "OllamaEmbeddings: 100%|██████████| 1/1 [00:00<00:00,  4.70it/s]\n",
      "OllamaEmbeddings: 100%|██████████| 1/1 [00:00<00:00, 33.53it/s]\n",
      "OllamaEmbeddings: 100%|██████████| 1/1 [00:00<00:00,  5.41it/s]\n",
      "OllamaEmbeddings: 100%|██████████| 1/1 [00:00<00:00, 11.74it/s]\n",
      "OllamaEmbeddings: 100%|██████████| 1/1 [00:00<00:00,  7.58it/s]\n"
     ]
    },
    {
     "data": {
      "text/markdown": [
       " Based on the provided context, the vehicle is a Ram 1500 Crew Cab."
      ],
      "text/plain": [
       "<IPython.core.display.Markdown object>"
      ]
     },
     "metadata": {},
     "output_type": "display_data"
    }
   ],
   "source": [
    "resposta = chain.invoke(\"This is an owner manual of a vehicle. Can you specify which vehicle?\")\n",
    "view_text_in_markdown(resposta)"
   ]
  },
  {
   "cell_type": "code",
   "execution_count": 21,
   "id": "c0e4ff08",
   "metadata": {},
   "outputs": [
    {
     "name": "stderr",
     "output_type": "stream",
     "text": [
      "OllamaEmbeddings: 100%|██████████| 1/1 [00:00<00:00,  8.75it/s]\n",
      "OllamaEmbeddings: 100%|██████████| 1/1 [00:00<00:00,  9.29it/s]\n",
      "OllamaEmbeddings: 100%|██████████| 1/1 [00:00<00:00,  5.66it/s]\n",
      "OllamaEmbeddings: 100%|██████████| 1/1 [00:00<00:00, 11.82it/s]\n",
      "OllamaEmbeddings: 100%|██████████| 1/1 [00:00<00:00,  8.57it/s]\n"
     ]
    },
    {
     "data": {
      "text/markdown": [
       " The provided documents are all related to the Ram 1500 25 Crew Cab."
      ],
      "text/plain": [
       "<IPython.core.display.Markdown object>"
      ]
     },
     "metadata": {},
     "output_type": "display_data"
    }
   ],
   "source": [
    "resposta = chain.invoke(\"Can you specify which vehicle?\")\n",
    "view_text_in_markdown(resposta)"
   ]
  }
 ],
 "metadata": {
  "kernelspec": {
   "display_name": "Python 3 (ipykernel)",
   "language": "python",
   "name": "python3"
  },
  "language_info": {
   "codemirror_mode": {
    "name": "ipython",
    "version": 3
   },
   "file_extension": ".py",
   "mimetype": "text/x-python",
   "name": "python",
   "nbconvert_exporter": "python",
   "pygments_lexer": "ipython3",
   "version": "3.10.12"
  }
 },
 "nbformat": 4,
 "nbformat_minor": 5
}
