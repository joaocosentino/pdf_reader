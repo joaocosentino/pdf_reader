{
 "cells": [
  {
   "cell_type": "markdown",
   "id": "d4d5cab6-515e-4dd6-95ae-6393f0c4435c",
   "metadata": {},
   "source": [
    "## Ingesting PDF"
   ]
  },
  {
   "cell_type": "code",
   "execution_count": null,
   "id": "c2e8b999-83ba-484a-9b94-f56c201d2036",
   "metadata": {},
   "outputs": [],
   "source": [
    "%pip install --q unstructured langchain\n",
    "%pip install --q \"unstructured[all-docs]\""
   ]
  },
  {
   "cell_type": "code",
   "execution_count": 1,
   "id": "3c0e2f74-7c4b-4665-8d87-bc00656f31e0",
   "metadata": {},
   "outputs": [],
   "source": [
    "from langchain_community.document_loaders import UnstructuredPDFLoader"
   ]
  },
  {
   "cell_type": "code",
   "execution_count": 2,
   "id": "104c0b18-1c06-41a1-a2ca-f9ee23f4f952",
   "metadata": {},
   "outputs": [
    {
     "name": "stderr",
     "output_type": "stream",
     "text": [
      "/home/estaciolima/pdf_reader/myenv/lib/python3.10/site-packages/tqdm/auto.py:21: TqdmWarning: IProgress not found. Please update jupyter and ipywidgets. See https://ipywidgets.readthedocs.io/en/stable/user_install.html\n",
      "  from .autonotebook import tqdm as notebook_tqdm\n"
     ]
    }
   ],
   "source": [
    "local_path = \"../pdf_files/owner_manual_p283-p300.pdf\"\n",
    "\n",
    "# Local PDF file uploads\n",
    "if local_path:\n",
    "  loader = UnstructuredPDFLoader(file_path=local_path)\n",
    "  data = loader.load()\n",
    "else:\n",
    "  print(\"Upload a PDF file\")"
   ]
  },
  {
   "cell_type": "code",
   "execution_count": 19,
   "id": "38119195-9c91-4e58-aa46-8a74244032af",
   "metadata": {
    "scrolled": true
   },
   "outputs": [],
   "source": [
    "from IPython.display import display, Markdown\n",
    "def view_text_in_markdown(page_content):\n",
    "    display(Markdown(page_content))"
   ]
  },
  {
   "cell_type": "markdown",
   "id": "c2faacc1-be29-4d52-a46e-94f5b5b8e728",
   "metadata": {},
   "source": [
    "## Vector Embeddings"
   ]
  },
  {
   "cell_type": "code",
   "execution_count": null,
   "id": "2dcf2cfe-a7aa-4ecf-85e3-f77b9e850514",
   "metadata": {
    "scrolled": true
   },
   "outputs": [],
   "source": [
    "!ollama pull nomic-embed-text"
   ]
  },
  {
   "cell_type": "code",
   "execution_count": null,
   "id": "4d0e5d7a",
   "metadata": {},
   "outputs": [],
   "source": [
    "!ollama pull mistral"
   ]
  },
  {
   "cell_type": "code",
   "execution_count": null,
   "id": "39aebbf8-92bf-42e5-951e-40bb458852d5",
   "metadata": {},
   "outputs": [],
   "source": [
    "!ollama list"
   ]
  },
  {
   "cell_type": "code",
   "execution_count": null,
   "id": "5394d61f-906b-4776-b8b5-9f0045c76193",
   "metadata": {},
   "outputs": [],
   "source": [
    "%pip install --q chromadb\n",
    "%pip install --q langchain-text-splitters"
   ]
  },
  {
   "cell_type": "code",
   "execution_count": 3,
   "id": "83a39856-0cc0-4ebe-8024-9db32455a545",
   "metadata": {},
   "outputs": [],
   "source": [
    "from langchain_community.embeddings import OllamaEmbeddings\n",
    "from langchain_text_splitters import RecursiveCharacterTextSplitter\n",
    "from langchain_community.vectorstores import Chroma"
   ]
  },
  {
   "cell_type": "code",
   "execution_count": 4,
   "id": "bad040e2-3abe-4e23-abb9-951b223b9262",
   "metadata": {},
   "outputs": [],
   "source": [
    "# Split and chunk \n",
    "text_splitter = RecursiveCharacterTextSplitter(chunk_size=800, chunk_overlap=100)\n",
    "chunks = text_splitter.split_documents(data)"
   ]
  },
  {
   "cell_type": "code",
   "execution_count": 35,
   "id": "384115ba",
   "metadata": {},
   "outputs": [
    {
     "data": {
      "text/plain": [
       "[Document(metadata={'source': '../pdf_files/owner_manual_p283-p300.pdf'}, page_content='282 IN CASE OF EMERGENCY\\n\\nIN CASE OF EMERGENCY\\n\\nHAZARD WARNING FLASHERS\\n\\nThe Hazard Warning Flashers button is located on the upper switch bank just below the radio.\\n\\nHazard Warning Flashers Button\\n\\nNOTE:\\n\\nIf your vehicle is equipped with a 12-inch Uconnect display, the Hazard Warning Flashers button is located above the display.\\n\\nHazard Warning Flashers Button with 12-inch display\\n\\nNOTE:\\n\\nIf your vehicle is equipped with a 14.5-inch Uconnect display, the Hazard Warning Flashers button is located to the left of the display.\\n\\nHazard Warning Flashers Button with 14.5-inch display'),\n",
       " Document(metadata={'source': '../pdf_files/owner_manual_p283-p300.pdf'}, page_content='Hazard Warning Flashers Button with 14.5-inch display\\n\\nPush the button to turn on the Hazard Warning Flashers. When the button is activated, all directional turn signals will flash on and off to warn oncoming, traffic of an emergency. Push the button a second time ‘to turn off the Hazard Warning Flashers.\\n\\nThis is an emergency warning system and it should not be used when the vehicle is in motion. Use only when your vehicle is disabled or signaling a safety hazard warning for other motorists.\\n\\nWhen leaving the vehicle to seek assistance, the\\n\\nHazard Warning Flashers will continue to operate even though the ignition is placed in the OFF position.\\n\\nNOTE: With extended use the Hazard Warning Flashers may wear down your battery.\\n\\nASSIST AND SOS SYSTEM — IF EQUIPPED\\n\\n‘A0703000080US'),\n",
       " Document(metadata={'source': '../pdf_files/owner_manual_p283-p300.pdf'}, page_content='ASSIST AND SOS SYSTEM — IF EQUIPPED\\n\\n‘A0703000080US\\n\\nASSIST And SOS Buttons\\n\\n1—ASSIST Button 2—SOS Button\\n\\nIf equipped, the overhead console contains an ASSIST and an SOS button.\\n\\nWARNING!\\n\\nALWAYS obey traffic laws and pay attention to the road. ALWAYS drive safely with your hands on the steering wheel. You have full responsibility and assume all risks related to the use of the features and applications in this vehicle. Only use the features and applications when it is safe to do so. Failure to do so may result in an accident involving serious injury or death.\\n\\nNOTE:\\n\\n@ Your vehicle may be transmitting data as authorized by the subscriber >> page 357.'),\n",
       " Document(metadata={'source': '../pdf_files/owner_manual_p283-p300.pdf'}, page_content=\"NOTE:\\n\\n@ Your vehicle may be transmitting data as authorized by the subscriber >> page 357.\\n\\n@ The ASSIST and SOS buttons will only function if you are connected to an operable LTE (voice/data) or 4G (data) network, which comes as a built-in function. Other services will only be operable if your Brand Connect service is active and you are connected to an operable 4G (data) network.\\n\\nASSIST Call\\n\\nThe ASSIST button is used to automatically connect you to any one of the following support centers:\\n\\n@ Roadside Assistance - If you get a flat tire, or need a tow, just push the ASSIST button, select the Roadside Assistance button to be connected to someone who can help. Roadside Assistance will know what vehicle you're driving and its location. Additional fees may apply for roadside Assistance.\"),\n",
       " Document(metadata={'source': '../pdf_files/owner_manual_p283-p300.pdf'}, page_content='@ Brand Connect Customer Care (If available) - In- vehicle support for Brand Connect.\\n\\n@ Vehicle Customer Care - Total support for all other vehicle issues.\\n\\n@ Uconnect Customer Care - Total support for Radio, Phone and NAV issues and Uconnect enrollment if Brand Connect is not supported.\\n\\nSOS Call\\n\\n1. Push the SOS Call button on the overhead console or in the radio screen.\\n\\nNOTE:\\n\\nIn case the SOS Call button is pushed in error, there will be a ten second delay before the SOS Call system initiates a call to an SOS operator. To cancel the SOS Call connection, push the SOS Call button on the overhead console or press the cancellation button on the Device Screen.\\n\\nIN CASE OF EMERGENCY 283\\n\\nTermination of the SOS Call will turn off the green LED light on the overhead console.'),\n",
       " Document(metadata={'source': '../pdf_files/owner_manual_p283-p300.pdf'}, page_content='Termination of the SOS Call will turn off the green LED light on the overhead console.\\n\\nThe LED lights located within the ASSIST and SOS buttons on the overhead console will turn green once a connection to an SOS operator has been made.\\n\\nOnce a connection between the vehicle and an SOS operator is made, the SOS Call system may transmit the following important vehicle information to an SOS operator:\\n\\n@ Indication that the occupant placed an SOS Call @ The vehicle brand @ The last known GPS coordinates of the vehicle\\n\\nYou should be able to speak with the SOS operator through the vehicle audio system to determine if additional help is needed.\\n\\nWARNING!'),\n",
       " Document(metadata={'source': '../pdf_files/owner_manual_p283-p300.pdf'}, page_content='WARNING!\\n\\nALWAYS obey traffic laws and pay attention to the road. ALWAYS drive safely with your hands on the steering wheel. You have full responsibility and assume all risks related to the use of the features and applications in this vehicle. Only use the features and applications when it is safe to do so. Failure to do so may result in an accident involving serious injury or death.\\n\\nNOTE:\\n\\n@ Your vehicle may be transmitting data as authorized by the subscriber.\\n\\n@ Once a connection is made between the vehicle’s SOS Call system and the SOS operator, the SOS operator may be able to open a\\n\\n284 IN CASE OF EMERGENCY'),\n",
       " Document(metadata={'source': '../pdf_files/owner_manual_p283-p300.pdf'}, page_content='284 IN CASE OF EMERGENCY\\n\\nvoice connection with the vehicle to determine if additional help is needed. Once the SOS operator opens a voice connection with the vehicle’s SOS Call system, the operator should be able to speak with you or other vehicle occupants and hear sounds occurring in the vehicle. The vehicle’s SOS Call system will attempt to remain connected with the SOS operator until the SOS operator terminates the connection.\\n\\n5. The SOS operator may attempt to contact appropriate emergency responders and provide them with important vehicle information and GPS. coordinates.\\n\\nWARNING!'),\n",
       " Document(metadata={'source': '../pdf_files/owner_manual_p283-p300.pdf'}, page_content='WARNING!\\n\\n@ If anyone in the vehicle could be in danger (e.g., fire or smoke is visible, dangerous road conditions or location), do not wait for voice contact from an Emergency Services Agent. All occupants should exit the vehicle immediately and move to a safe location.\\n\\n@ Never place anything on or near the vehicle’s operable network and GPS antennas. You could prevent operable network and GPS signal reception, which can prevent your vehicle from placing an emergency call. An operable network and GPS signal reception is required for the SOS Call system to function properly.\\n\\n@ The SOS Call system is embedded into the vehicle’s electrical system. Do not add aftermarket electrical equipment to the vehicle’s electrical system. This may prevent your vehicle from\\n\\n(Continued)\\n\\nWARNING!'),\n",
       " Document(metadata={'source': '../pdf_files/owner_manual_p283-p300.pdf'}, page_content='(Continued)\\n\\nWARNING!\\n\\nWARNING!\\n\\nsending a signal to initiate an emergency call. To avoid interference that can cause the SOS Call system to fail, never add aftermarket equipment (e.g., two-way mobile radio, CB radio, data recorder, etc.) to your vehicle’s electrical system or modify the antennas on your vehicle. IF YOUR VEHICLE LOSES BATTERY POWER FOR ANY REASON (INCLUDING DURING OR AFTER AN ACCIDENT), THE UCONNECT FEATURES, APPS AND SERVICES, AMONG OTHERS, WILL NOT OPERATE. @ Modifications to any part of the SOS Call system could cause the air bag system to fail when you need it. You could be injured if the air bag system is not there to help protect you.\\n\\nSOS Call System Limitations\\n\\nVehicles sold in Mexico DO NOT have SOS Call system capabilities.'),\n",
       " Document(metadata={'source': '../pdf_files/owner_manual_p283-p300.pdf'}, page_content='SOS Call System Limitations\\n\\nVehicles sold in Mexico DO NOT have SOS Call system capabilities.\\n\\nSOS or other emergency line operators in Mexico may not answer or respond to SOS system calls.\\n\\nIf the SOS Call system detects a malfunction, any of the following may occur at the time the malfunction is detected, and at the beginning of each ignition cycle:\\n\\n@ The overhead console lights located within the ASSIST and SOS buttons will continuously illuminate red.\\n\\n@ The Device Screen will display, and an audio message will state, the following message: “Vehicle Device Requires Service. Please Contact An Authorized Dealer.”'),\n",
       " Document(metadata={'source': '../pdf_files/owner_manual_p283-p300.pdf'}, page_content='@ Ignoring the overhead console light could mean you will not have SOS Call services. If the overhead console light is illuminated and no SOS call placed, have an authorized dealer service the SOS Call system immediately.\\n\\n@ The Occupant Restraint Control module turns on the Air Bag Warning Light on the instrument panel if a malfunction in any part of the system is detected. If the Air Bag Warning Light is illuminated, have an authorized dealer service the Occupant Restraint Control system immediately.\\n\\nEven if the SOS Call system is fully functional, factors\\n\\nbeyond FCA US LLC’s control may prevent or stop the\\n\\nSOS Call system operation. These include, but are not limited to, the following factors:\\n\\n@ The ignition is in the OFF position\\n\\n@ The vehicle’s electrical systems are not intact'),\n",
       " Document(metadata={'source': '../pdf_files/owner_manual_p283-p300.pdf'}, page_content='@ The ignition is in the OFF position\\n\\n@ The vehicle’s electrical systems are not intact\\n\\n@ The SOS Call system software and/or hardware are damaged during a crash\\n\\n@ The vehicle battery loses power or becomes disconnected during a vehicle crash\\n\\n@ LTE (voice/data) or 4G (data) network and/or Global Positioning Satellite signals are unavailable or obstructed\\n\\n@ Equipment malfunction at the SOS operator facility @ Operator error by the SOS operator\\n\\n@ LTE (voice/data) or 4G (data) network congestion\\n\\n@ Weather\\n\\n@ Buildings, structures, geographic terrain, or tunnels\\n\\nNOTE:\\n\\n@ Your vehicle may be transmitting data as authorized by the subscriber.'),\n",
       " Document(metadata={'source': '../pdf_files/owner_manual_p283-p300.pdf'}, page_content=\"NOTE:\\n\\n@ Your vehicle may be transmitting data as authorized by the subscriber.\\n\\n@ Never place anything on or near the vehicle’s LTE (voice/data) or 4G (data) and GPS antennas. You could prevent LTE (voice/data) or 4G (data) and GPS signal reception, which can prevent your vehicle from placing an emergency call. An operable LTE (voice/ data) or 4G (data) network connection and a GPS. signal is required for the SOS Call system to function properly.\\n\\nNOTE:\\n\\nChanges or modifications not expressly approved by the party responsible for compliance could void the user's authority to operate the equipment.\\n\\nAutomatic SOS — If Equipped\"),\n",
       " Document(metadata={'source': '../pdf_files/owner_manual_p283-p300.pdf'}, page_content='Automatic SOS — If Equipped\\n\\nAutomatic SOS is a hands-free safety service that can immediately connect you with help in the event that your vehicle’s air bags deploy. Please refer to your provided radio supplement for complete information.\\n\\nJACKING AND TIRE CHANGING\\n\\nIN CASE OF EMERGENCY 285\\n\\nWARNING!\\n\\nWARNING!\\n\\n© Do not attempt to change a tire on the side of the vehicle close to moving traffic. Pull far enough off the road to avoid the danger of being hit when operating the jack or changing the wheel.'),\n",
       " Document(metadata={'source': '../pdf_files/owner_manual_p283-p300.pdf'}, page_content='@ Being under a jacked-up vehicle is dangerous. The vehicle could slip off the jack and fall on you. You could be crushed. Never put any part of your body under a vehicle that is on a jack. If you need to get under a raised vehicle, take it to a service center where it can be raised on a lift.\\n\\n@ Never start or run the engine while the vehicle is on a jack.\\n\\n@ The jack is designed to be used as a tool for changing tires only. The jack should not be used to lift the vehicle for service purposes. The vehicle should be jacked on a firm level surface only. Avoid ice or slippery areas.\\n\\nNOTE:'),\n",
       " Document(metadata={'source': '../pdf_files/owner_manual_p283-p300.pdf'}, page_content='NOTE:\\n\\nIf your vehicle is equipped with an air suspension system, there is a feature which allows the automatic leveling to be disabled to assist with changing a tire. This feature can be activated through the Uconnect system [>> page 218.\\n\\nPREPARATIONS FoR JACKING\\n\\nNOTE:\\n\\nIf your vehicle is equipped with Air Suspension, you will need to enable Tire Jack Mode in the Uconnect system before changing the tire > page 136.\\n\\n1. Park ona firm, level surface. Avoid ice or slippery areas.\\n\\nDo not attempt to change a tire on the side of the vehicle close to moving traffic. Pull far enough off the road to avoid being hit when operating the jack or changing the wheel.\\n\\nTurn on the Hazard Warning Flashers. Apply the parking brake.\\n\\nShift the transmission into PARK (P). Turn the ignition OFF.\\n\\noa FWD'),\n",
       " Document(metadata={'source': '../pdf_files/owner_manual_p283-p300.pdf'}, page_content=\"Shift the transmission into PARK (P). Turn the ignition OFF.\\n\\noa FWD\\n\\nBlock both front and rear of the wheel diagonally opposite of the jacking position. For example, if the driver's front wheel is being changed, block the passenger's rear wheel.\\n\\n‘Ao707001133US\\n\\nWheel Blocked Example\\n\\nNOTE: Passengers should not remain in the vehicle when the vehicle is being raised or lifted.\\n\\n286 IN CASE OF EMERGENCY\\n\\nJack LocaTion\\n\\nThe jack and tools are stored under the front passenger seat.\\n\\nRemova OF Jack AND TooLs\"),\n",
       " Document(metadata={'source': '../pdf_files/owner_manual_p283-p300.pdf'}, page_content=\"The jack and tools are stored under the front passenger seat.\\n\\nRemova OF Jack AND TooLs\\n\\nTo access the jack and tools, you must remove the plastic access cover located on the side of the front passenger's seat. To remove the cover, pull the front part of the cover (closest to the front of the seat) toward you to release a locking tab. Once the front of the cover is loose, slide the cover toward the front of the seat until it is free from the seat frame.\\n\\nPull Jack Access Cover From Front\\n\\nRemove the jack and tools by turning the wing bolt counterclockwise. After removing the wing bolt, slide the assembly out from under the seat.\\n\\nO\\\\S\\n\\nap _\\n\\nJack And Tools\\n\\nRelease the tool bag straps from the jack and remove tools from bag.\\n\\n‘A0707000836US\\n\\nJack And Tool Bag\"),\n",
       " Document(metadata={'source': '../pdf_files/owner_manual_p283-p300.pdf'}, page_content='‘A0707000836US\\n\\nJack And Tool Bag\\n\\nThere are two ways to assemble the tools: Assembled For Spare Tire Lowering/Raising\\n\\n(xo) eo OS]\\n\\n‘A0707000888US,\\n\\nAssembled For Spare Tire Lowering/Raising\\n\\n4—Lug Wrench\\n\\n2 — Long Extension Without Spring Clip #2 3 —Long Extension With Spring Clip #3\\n\\n4 —Long Extension With Spring Clip #4\\n\\n5 — Short Extension #5\\n\\nNOTE: If the tailgate is lowered, adding the shorter extension\\n\\n#5 to jack extension #4 will enable lowering the spare tire without having to raise the tailgate.\\n\\nCAUTION!\\n\\n@ The lug wrench can only be attached to extension #2.\\n\\n@ When attaching the tool to the winch mechanism be sure the large flared end opening on extension #4 is positioned correctly over the winch mechanism adjusting nut.\\n\\n(Continued)\\n\\nIN CASE OF EMERGENCY 287\\n\\nCAUTION!'),\n",
       " Document(metadata={'source': '../pdf_files/owner_manual_p283-p300.pdf'}, page_content='(Continued)\\n\\nIN CASE OF EMERGENCY 287\\n\\nCAUTION!\\n\\nWARNING!\\n\\nCAUTION!\\n\\n@ Damage to the lug wrench, extensions and winch mechanism may occur from improper tool assembly.\\n\\nAssembled For Jack Operation\\n\\n(oo) mcs\\n\\nTI lu\\n\\n‘A0707000889US\\n\\nAssembled For Jack Operation\\n\\n4—Lug Wrench\\n\\n2 —Long Extension #2 3—Long Extension #3\\n\\n4 —Long Extension #4 5 —Short Extension #5 6 — Extension With Hook\\n\\nWARNING!\\n\\nAfter using the jack and tools, always reinstall them in the original carrier and location. While driving you may experience abrupt stopping, rapid acceleration or sharp turns. A loose jack, tools, bracket or other\\n\\n(Continued)\\n\\nobjects in the vehicle may move around with force, resulting in serious injury.\\n\\nREmoviNG THE SPARE TIRE'),\n",
       " Document(metadata={'source': '../pdf_files/owner_manual_p283-p300.pdf'}, page_content='REmoviNG THE SPARE TIRE\\n\\n1. Remove the spare tire before attempting to jack up the truck. Attach the lug wrench to the extension tubes with the curved angle facing away from the vehicle.\\n\\n2. Remove the protective cover over the access hole for the winch mechanism by sliding the cover upward.\\n\\nAccess Hole Cover Location\\n\\n3. Insert the extension tubes through the access hole between the lower tailgate and the top of the fascia/bumper and into the winch mechanism tube.\\n\\nThe winch mechanism is designed for use with the jack extension tubes only. Use of an air wrench or other power tools is not recommended and can damage the winch.\\n\\nWinch Mechanism Tube\\n\\nInserting The Extension Tubes Into The Access Hole\\n\\n288\\n\\nIN CASE OF EMERGENCY'),\n",
       " Document(metadata={'source': '../pdf_files/owner_manual_p283-p300.pdf'}, page_content='Inserting The Extension Tubes Into The Access Hole\\n\\n288\\n\\nIN CASE OF EMERGENCY\\n\\nRotate the lug wrench handle counterclockwise until the spare tire is on the ground with enough cable slack to allow you to pull it out from under the vehicle.\\n\\nRotating The Lug Wrench Handle\\n\\nPull the spare tire out from under the vehicle to gain access to the spare tire retainer.\\n\\nAoToTeoesasus,\\n\\nPulling The Spare Tire Out\\n\\nLift the spare tire with one hand to give clearance to tilt the retainer at the end of the cable.\\n\\nPull the retainer through the center of the wheel.\\n\\nDisengaging The Retainer\\n\\nJACKING INSTRUCTIONS\\n\\nWARNING!\\n\\n©@ Do not get under the vehicle when it is on a jack. If you need to get under a raised vehicle, take it toa service center where it can be raised on a lift.'),\n",
       " Document(metadata={'source': '../pdf_files/owner_manual_p283-p300.pdf'}, page_content='@ Only use the jack in the positions indicated and for lifting this vehicle during a tire change.\\n\\n@ If working on or near a roadway, be extremely careful of motor traffic.\\n\\n@ To assure that spare tires, flat or inflated, are securely stowed, spares must be stowed with the valve stem facing the ground.\\n\\nWARNING!\\n\\nCarefully follow these tire changing warnings to help prevent personal injury or damage to your vehicle:\\n\\n@ Always park on a firm, level surface as far from the edge of the roadway as possible before raising the vehicle.\\n\\nTurn on the Hazard Warning Flashers.\\n\\nApply the parking brake firmly and set the transmission in PARK.\\n\\n@ Block the wheel diagonally opposite the wheel to be raised.\\n\\n@ Never start or run the engine with the vehicle on a jack.'),\n",
       " Document(metadata={'source': '../pdf_files/owner_manual_p283-p300.pdf'}, page_content='@ Never start or run the engine with the vehicle on a jack.\\n\\n@ Do not let anyone sit in the vehicle when it is ona jack.\\n\\n[SS\\n\\nJack Warning Label\\n\\nCAUTION!\\n\\nDo not attempt to raise the vehicle by jacking on locations other than those indicated in the Jacking Instructions for this vehicle.\\n\\n(Continued)\\n\\n1. Remove the spare tire, jack, and tools from the\\n\\nstored location.\\n\\n2. Using the lug wrench, loosen the wheel nuts (but\\n\\ndo not remove), by turning them counterclockwise one turn while the wheel is still on the ground.\\n\\n3. Assemble the jack and jacking tools. Connect the jack handle driver to the extension, then to the lug wrench.\\n\\nAnToTe0es99uS,\\n\\nAssembled Jack And Tools'),\n",
       " Document(metadata={'source': '../pdf_files/owner_manual_p283-p300.pdf'}, page_content='AnToTe0es99uS,\\n\\nAssembled Jack And Tools\\n\\n4. Placement for the front and rear jacking locations are critical. See the following images for proper jacking locations.\\n\\n= - = Jack / Extensions Placement\\n\\nFront Jacking Location\\n\\nWhen changing a front wheel, place the scissor jack under the rear portion of the lower control arm\\n\\nas shown. Access the front jacking location from behind the front tire.\\n\\nAoToTeoese2us,\\n\\nFront Jacking Location Rear Jacking Location\\n\\nOperate the jack using the extension with jack hook and the lug wrench. The extension tubes may be used but are not required.\\n\\nWhen changing a rear wheel, assemble the extension with jack hook to the jack and connect the extension tubes. Access the rear jacking\\n\\nIN CASE OF EMERGENCY 289'),\n",
       " Document(metadata={'source': '../pdf_files/owner_manual_p283-p300.pdf'}, page_content='IN CASE OF EMERGENCY 289\\n\\nlocation from behind the rear tire. Place the jack under the Jack Lifting Point located on the rear axle lower control arm bracket. Then locate the slot in the jack lift plate onto the rear axle Jack Lifting Point. Attach the extension with jack hook extending to the rear of the vehicle.\\n\\nAnToTeoeee3Us,\\n\\nRear Jacking Location\\n\\nConnect the long extensions to the lug wrench.\\n\\n290\\n\\nIN CASE OF EMERGENCY\\n\\nCAUTION!\\n\\nWARNING!\\n\\nBefore raising the wheel off the ground, make sure that the jack will not damage surrounding truck parts and adjust the jack position as required.\\n\\nA loose tire or jack thrown forward in a collision or hard stop, could endanger the occupants of the vehicle. Always stow the jack parts and the spare tire in the places provided.'),\n",
       " Document(metadata={'source': '../pdf_files/owner_manual_p283-p300.pdf'}, page_content='By rotating the lug wrench clockwise, raise the vehicle until the wheel just clears the ground surface.\\n\\nWARNING!\\n\\nRaising the vehicle higher than necessary can make the vehicle less stable. It could slip off the jack and hurt someone near it. Raise the vehicle only enough to remove the tire.\\n\\nRemove the lug nuts and pull the wheel off. Install the spare wheel and lug nuts with the cone shaped end of the lug nuts toward the wheel. Hand tighten the lug nuts with the vehicle lifted. To avoid the risk of forcing the vehicle off the jack, do not fully tighten the lug nuts until the vehicle has been completely lowered.'),\n",
       " Document(metadata={'source': '../pdf_files/owner_manual_p283-p300.pdf'}, page_content='Lower the vehicle to the ground and finish tightening the lug nuts. Push down on the wrench handle for increased leverage. Tighten the lug nuts in a star pattern until each lug nut has been tightened twice > page 348. If in doubt about the correct tightness, have them checked with a torque wrench by an authorized dealer or ata service station.\\n\\n10.\\n\\nIf your vehicle is equipped with a wheel center cap, install the cap and remove the wheel blocks. Do not install chrome or aluminum wheel center caps on the spare wheel. This may result in cap damage.\\n\\nLower the jack to its fully closed position. Stow the replaced tire, and secure the jack and tools in the proper location.\\n\\nAdjust the tire pressure when possible.\\n\\nTo Stow THE Fiat Or SPARE\\n\\n1.'),\n",
       " Document(metadata={'source': '../pdf_files/owner_manual_p283-p300.pdf'}, page_content='Adjust the tire pressure when possible.\\n\\nTo Stow THE Fiat Or SPARE\\n\\n1.\\n\\nLift the spare tire with one hand to give clearance to tilt the retainer at the end of the cable.\\n\\nPosition the wheel behind the rear fascia/bumper facing outward. Push the end of the winch’s cable, spring and steel sleeve through the back of the road wheel. Making sure the valve stem is facing the ground when the wheel is stowed.\\n\\nReinstalling The Retainer\\n\\nAororooteaTus,\\n\\nRemove the extension with the hook and reattach the short extension #5. > page 286. Attach the lug wrench to the extension tubes with the curved angle facing away from the vehicle. Insert the extension tubes through the access hole between the lower tailgate and the top of the fascia/bumper and into the winch mechanism tube.\\n\\nCAUTION!'),\n",
       " Document(metadata={'source': '../pdf_files/owner_manual_p283-p300.pdf'}, page_content='CAUTION!\\n\\nThe winch mechanism is designed for use with the jack extension tubes only. Use of an air wrench or other power tools is not recommended and can damage the winch.\\n\\nAoToreoosseus.\\n\\nReinstalling The Flat Or Spare Tire\\n\\nRotate the lug wrench handle clockwise until the wheel is drawn into place against the underside of the vehicle. Continue to rotate until you feel the winch mechanism slip, or click three or four times. It cannot be overtightened. Push against the tire several times to ensure it is firmly in place.\\n\\nRotating The Lug Wrench Handle\\n\\nNOTE: Have the flat tire repaired or replaced immediately.\\n\\nWARNING!\\n\\nA loose tire or jack thrown forward in a collision'),\n",
       " Document(metadata={'source': '../pdf_files/owner_manual_p283-p300.pdf'}, page_content='WARNING!\\n\\nA loose tire or jack thrown forward in a collision\\n\\nor hard stop could endanger the occupants of the vehicle. Always stow the jack parts and the spare tire in the places provided. Have the deflated (flat) tire repaired or replaced immediately.\\n\\nREINSTALLING THE JAck AND TooLs\\n\\n1. Tighten the jack all the way down by turning the jack turn-screw counterclockwise until the jack is. snug.\\n\\n2. Position the jack and tool bag. Make sure the lug\\n\\nwrench is under the jack near the jack turn-screw.\\n\\nIN CASE OF EMERGENCY 291.\\n\\nAoToTeoesseus,\\n\\nJack And Tool Bag Secure the tool bag straps to the jack.\\n\\nJack And Tools Tied'),\n",
       " Document(metadata={'source': '../pdf_files/owner_manual_p283-p300.pdf'}, page_content='AoToTeoesseus,\\n\\nJack And Tool Bag Secure the tool bag straps to the jack.\\n\\nJack And Tools Tied\\n\\nPlace the jack and tools in the storage position holding the jack by the jack turn-screw, slip the jack and tools under the seat so that the bottom slot engages into the fastener on the floor.\\n\\nNOTE:\\n\\nEnsure that the jack slides into the front hold down location.\\n\\n292 IN CASE OF EMERGENCY\\n\\n5. Turn the wing bolt clockwise to secure to the floor pan. Reinstall the plastic cover.\\n\\nWARNING!\\n\\nDo not attempt jump starting if the battery is frozen. It could rupture or explode and cause personal injury.\\n\\nCAUTION!\\n\\nJack Hold Down Wing Bolt\\n\\nWARNING!'),\n",
       " Document(metadata={'source': '../pdf_files/owner_manual_p283-p300.pdf'}, page_content='CAUTION!\\n\\nJack Hold Down Wing Bolt\\n\\nWARNING!\\n\\nAfter using the jack and tools, always reinstall them in the original carrier and location. While driving you may experience abrupt stopping, rapid acceleration or sharp turns. A loose jack, tools, bracket or other objects in the vehicle may move around with force, resulting in serious injury.\\n\\nJUMP STARTING\\n\\nIf your vehicle has a discharged battery, it can be\\n\\njump started using a set of jumper cables and a\\n\\nbattery in another vehicle, or by using a portable battery booster pack. Jump starting can be dangerous if done improperly, so please follow the procedures in this section carefully.'),\n",
       " Document(metadata={'source': '../pdf_files/owner_manual_p283-p300.pdf'}, page_content=\"Do not use a portable battery booster pack or any other booster source with a system voltage greater than 12 Volts or damage to the battery, starter motor, alternator or electrical system may occur.\\n\\nNOTE: When using a portable battery booster pack, follow the manufacturer's operating instructions and precautions.\\n\\nPREPARATIONS For JumMP START\\n\\nThe battery in your vehicle is located in the front of the engine compartment, behind the left headlight assembly.\\n\\nNOTE:\\n\\nThe positive battery post may be covered with a protective cap. Lift up on the cap to gain access to the positive battery post. Do not jump off fuses. Only jump directly off positive post which has a positive (+) symbol on or around the post.\\n\\nSee the following steps to prepare for jump starting:\"),\n",
       " Document(metadata={'source': '../pdf_files/owner_manual_p283-p300.pdf'}, page_content='See the following steps to prepare for jump starting:\\n\\n1. Shift the automatic transmission into PARK, apply the parking brake and turn the ignition OFF.\\n\\n2. Turn off the heater, radio, and all electrical accessories.\\n\\n3. If using another vehicle to jump start the battery, park the vehicle within the jumper cables’ reach, apply the parking brake and make sure the ignition is OFF.\\n\\nWARNING!\\n\\nDo not allow vehicles to touch each other as this could establish a ground connection and personal injury could result.\\n\\nPositive (+) Battery Post Location\\n\\n4. Pull upward and remove the protective cover over the positive (+) battery post.\\n\\nWARNING!'),\n",
       " Document(metadata={'source': '../pdf_files/owner_manual_p283-p300.pdf'}, page_content='4. Pull upward and remove the protective cover over the positive (+) battery post.\\n\\nWARNING!\\n\\n@ Take care to avoid the radiator cooling fan whenever the hood is raised. It can start anytime the ignition switch is ON. You can be injured by moving fan blades.\\n\\n@ Remove any metal jewelry such as rings, watch bands and bracelets that could make\\n\\n(Continued)\\n\\nIN CASE OF EMERGENCY 293\\n\\n6. Once the engine is started, follow the disconnection procedure.\\n\\nDisconnecting The Jumper Cables.\\n\\n1. Disconnect the negative (-) end of the jumper cable from the engine ground of the vehicle with the discharged battery.\\n\\n2. Disconnect the opposite end of the negative (-) jumper cable from the negative (-) post of the booster battery.'),\n",
       " Document(metadata={'source': '../pdf_files/owner_manual_p283-p300.pdf'}, page_content='3. Disconnect the positive (+) end of the jumper cable from the positive (+) post of the booster battery.\\n\\n4. Disconnect the opposite end of the positive (+) jumper cable from the positive (+) post of the vehicle with the discharged battery, and reinstall the protective cap.\\n\\nIf frequent jump starting is required to start your vehicle you should have the battery and charging system inspected at an authorized dealer.'),\n",
       " Document(metadata={'source': '../pdf_files/owner_manual_p283-p300.pdf'}, page_content='WARNING! 4. Connect the opposite end of the negative (-) . jumper cable to a good engine ground. A “ground’ an inadvertent electrical contact. You could be is an exposed metallic/unpainted part of the seriously injured. engine, frame or chassis, such as an accessory © Batteries contain sulfuric acid that can burn your bracket or large bolt. The ground must be away skin or eyes and generate hydrogen gas which is from the battery and the fuel injection system. flammable and explosive. Keep open flames or sparks away from the battery. Jump STarTING PROCEDURE WARNING! Failure to follow this jump starting procedure could result in personal injury or property damage due to battery explosion. CAUTIONI Jump Starting Label Failure to follow these procedures could result in WARNING! damage to the'),\n",
       " Document(metadata={'source': '../pdf_files/owner_manual_p283-p300.pdf'}, page_content='Jump Starting Label Failure to follow these procedures could result in WARNING! damage to the charging system of the booster vehicle or the discharged vehicle. Do not connect the jumper cable to the negative (-) post of the discharged battery. The resulting Connecting The Jumper Cables electrical spark could cause the battery to cee explode and could result in personal injury. 4. Connect the positive (+) end of the jumper cable to the positive (+) post of the discharged vehicle. 5. Start the engine in the vehicle that has the booster'),\n",
       " Document(metadata={'source': '../pdf_files/owner_manual_p283-p300.pdf'}, page_content='NOTE: Do not jump off fuses. Only jump directly off positive post.\\n\\n2. Connect the opposite end of the positive (+)\\n\\njumper cable to the positive (+) post of the booster battery.\\n\\n3. Connect the negative (-) end of the jumper cable to the negative (-) post of the booster battery.\\n\\nbattery, let the engine idle a few minutes, and then start the engine in the vehicle with the discharged battery.\\n\\nCAUTION!\\n\\nDo not connect jumper cable to any of the fuses on the positive battery terminal. The resulting electrical current will blow the fuse.\\n\\nCAUTION!\\n\\nAccessories plugged into the vehicle power outlets draw power from the vehicle’s battery, even when'),\n",
       " Document(metadata={'source': '../pdf_files/owner_manual_p283-p300.pdf'}, page_content=\"not in use (i.e., cellular devices, etc.). Eventually, if plugged in long enough without engine operation, the vehicle’s battery will discharge sufficiently to degrade battery life and/or prevent the engine from starting.\\n\\nREFUELING IN EMERGENCY\\n\\nThe vehicle is equipped with a refueling funnel for a capless fuel system. The refueling funnel is located under the passenger's seat along with the jack and\\n\\n294 IN CASE OF EMERGENCY\\n\\ntools. If refueling is necessary, while using an approved gas can, insert the refueling funnel into the filler neck opening. Take care to open both flappers with the funnel to avoid spills.\\n\\nFuel Funnel Location\\n\\nNOTE:\"),\n",
       " Document(metadata={'source': '../pdf_files/owner_manual_p283-p300.pdf'}, page_content=\"Fuel Funnel Location\\n\\nNOTE:\\n\\nIn certain cold conditions, ice may prevent the fuel door from opening. If this occurs, lightly push on the fuel door to break the ice buildup and re-release the fuel door using the inside release button. Do not pry on the door.\\n\\nEmergency Gas Can Refueling:\\n\\nMost gas cans will not open the flapper doors. A funnel is provided to allow emergency refueling with a gas can.\\n\\nSee the following steps for refueling:\\n\\n1. Retrieve funnel from under the passenger's front seat.\\n\\n2. Insert funnel into same filler pipe opening as the fuel nozzle.\\n\\nInserting Funnel\\n\\n(porrrgoozsus |\\n\\nEnsure funnel is inserted fully to hold flapper doors.\\n\\nopen.\\n\\nPour fuel into funnel opening.\\n\\nCAUTION!\\n\\noff” the fuel tank after filling.\\n\\nTo avoid fuel spillage and overfilling, do not “top\"),\n",
       " Document(metadata={'source': '../pdf_files/owner_manual_p283-p300.pdf'}, page_content='CAUTION!\\n\\noff” the fuel tank after filling.\\n\\nTo avoid fuel spillage and overfilling, do not “top\\n\\nRemove funnel from filler pipe, clean off prior to putting back in the spare tire storage area.\\n\\nWARNING!\\n\\nNever have any smoking materials lit in or near the vehicle when the fuel door is open or the tank is\\n\\nbeing filled.\\n\\nNever add fuel when the engine is running. This is in violation of most state and federal fire regulations and may cause the Malfunction\\n\\nIndicator Light to turn on.\\n\\n(Continued)\\n\\nWARNING!\\n\\n@ A fire may result if fuel is pumped into a portable container that is inside of a vehicle. You could be burned. Always place fuel containers on the ground while filling.\\n\\nIF YOUR ENGINE OVERHEATS\\n\\nIf the vehicle is overheating, it will need to be serviced by an authorized dealer.'),\n",
       " Document(metadata={'source': '../pdf_files/owner_manual_p283-p300.pdf'}, page_content='If the vehicle is overheating, it will need to be serviced by an authorized dealer.\\n\\nPotential signs of vehicle overheating:\\n\\n© Temperature gauge is at HOT (H)\\n\\n@ Strong smell of coolant\\n\\n@ White smoke coming from engine or exhaust. ®@ Coolant bottle coolant has bubbles present\\n\\nWARNING!\\n\\nYou or others can be badly burned by hot engine coolant (antifreeze) or steam from your radiator. If you see or hear steam coming from under the hood, do not open the hood until the radiator has had time to cool. Never try to open a cooling system pressure cap when the radiator or coolant bottle is hot.\\n\\nIf the temperature gauge is moving toward or close to the HOT (H) position, you can reduce the potential for overheating by the following:\\n\\n@ On highways — slow down.'),\n",
       " Document(metadata={'source': '../pdf_files/owner_manual_p283-p300.pdf'}, page_content='@ On highways — slow down.\\n\\n@ In city traffic — while stopped, place the transmission in NEUTRAL (N), but do not increase the engine\\n\\nidle speed while preventing vehicle motion with the brakes.\\n\\n© If your Air Conditioner (A/C) is on, turn it off. The A/C system adds heat to the engine cooling system and turning the A/C off can help remove this heat.\\n\\n@ You can also turn the temperature control to maximum heat, the mode control to floor and the blower control to high. This allows the heater core to act as a supplement to the radiator and aids in removing heat from the engine cooling system.\\n\\nCAUTION!\\n\\nDriving with a hot cooling system could damage your vehicle. If the temperature gauge reads HOT (H), pull over and stop the vehicle. Idle the vehicle with the'),\n",
       " Document(metadata={'source': '../pdf_files/owner_manual_p283-p300.pdf'}, page_content='air conditioner turned off until the pointer drops back into the normal range. If the pointer remains on HOT (H), and you hear continuous chimes, turn the engine off immediately and call for service.\\n\\nMANUAL PARK RELEASE\\n\\nWARNING!\\n\\nAlways secure your vehicle by fully applying the parking brake before activating the Manual Park Release. In addition, you should be seated in the driver’s seat with your foot firmly on the brake pedal when activating the Manual Park Release. Activating the Manual Park Release will allow your vehicle to roll away if it is not secured by the parking brake, or by proper connection to a tow vehicle. Activating the Manual Park Release on an unsecured vehicle could\\n\\n(Continued)\\n\\nWARNING!\\n\\nlead to serious injury or death for those in or around the vehicle.'),\n",
       " Document(metadata={'source': '../pdf_files/owner_manual_p283-p300.pdf'}, page_content=\"(Continued)\\n\\nWARNING!\\n\\nlead to serious injury or death for those in or around the vehicle.\\n\\nIn order to move the vehicle in cases where the transmission will not shift out of PARK (P) (such as a depleted battery), a Manual Park Release is available.\\n\\nFollow these steps to activate the Manual Park Release:\\n\\n1. Apply firm pressure to the brake pedal while seated in the driver's seat.\\n\\nApply the parking brake if possible.\\n\\nUsing a small screwdriver or similar tool, open the Manual Park Release cover, which is located to the lower left of the steering column.\\n\\n|\\n\\n‘A0T180000590S,\\n\\nManual Park Release Access Cover\"),\n",
       " Document(metadata={'source': '../pdf_files/owner_manual_p283-p300.pdf'}, page_content=\"|\\n\\n‘A0T180000590S,\\n\\nManual Park Release Access Cover\\n\\n4. Behind the Manual Park Release access cover is the orange tether strap. Pull the tether strap out as far as it will go, then release it. The tether and lever will remain outside of the trim panel and the transmission should now be in NEUTRAL, allowing the vehicle to be moved.\\n\\nIN CASE OF EMERGENCY 295\\n\\nManual Park Release Tether\\n\\nTo Reset The Manual Park Release:\\n\\n1.\\n\\n4.\\n\\nApply firm pressure to the brake pedal while seated in the driver's seat.\\n\\nPull the tether strap out again, then release it.\\n\\nAllow the tether to retract with the lever back to its original position.\\n\\nManual Park Release Tether\\n\\nVerify the transmission is in PARK.\\n\\n296 IN CASE OF EMERGENCY\"),\n",
       " Document(metadata={'source': '../pdf_files/owner_manual_p283-p300.pdf'}, page_content='Manual Park Release Tether\\n\\nVerify the transmission is in PARK.\\n\\n296 IN CASE OF EMERGENCY\\n\\n5. Confirm that the tether has retracted fully and reinstall the access cover. If the access cover cannot be reinstalled, repeat steps 1 through 4.\\n\\nNOTE:\\n\\nWhen the lever is locked in the released position the access cover cannot be reinstalled.\\n\\nFREEING A STUCK VEHICLE\\n\\nIf your vehicle becomes stuck in mud, sand, or snow,\\n\\nit can often be moved using a rocking motion. Turn the steering wheel right and left to clear the area around the front wheels. Then shift back and forth between DRIVE (D) and REVERSE (R), while gently pressing the accelerator. Use the least amount of accelerator pedal pressure that will maintain the rocking motion, without spinning the wheels or racing the engine.\\n\\nCAUTION!'),\n",
       " Document(metadata={'source': '../pdf_files/owner_manual_p283-p300.pdf'}, page_content='CAUTION!\\n\\n@ Racing the engine or spinning the wheels may lead to transmission overheating and failure. Allow the engine to idle with the transmission in NEUTRAL for at least one minute after every five rocking- motion cycles. This will minimize overheating and reduce the risk of transmission failure during prolonged efforts to free a stuck vehicle.\\n\\n(Continued)\\n\\nCAUTION!\\n\\nWARNING!\\n\\n@ When “rocking” a stuck vehicle by shifting between DRIVE and REVERSE, do not spin the wheels faster than 15 mph (24 km/h), or drivetrain damage may result.\\n\\n@ Rewving the engine or spinning the wheels too fast may lead to transmission overheating and failure. It can also damage the tires. Do not spin the wheels above 30 mph (48 km/h) while in gear (no transmission shifting occurring).\\n\\nNOTE:'),\n",
       " Document(metadata={'source': '../pdf_files/owner_manual_p283-p300.pdf'}, page_content='NOTE:\\n\\nShifts between DRIVE and REVERSE can only be achieved at wheel speeds of 5 mph (8 km/h) or less. Whenever the transmission remains in NEUTRAL (N) for more than two seconds, you must press the brake pedal to engage DRIVE or REVERSE.\\n\\nPush the ESC OFF button to place the Electronic Stability Control (ESC) system in “Partial OFF” mode, before rocking the vehicle SQ page 237. Once the vehicle has been freed, push the ESC OFF button to restore “ESC On” mode.\\n\\nWARNING!\\n\\nFast spinning tires can be dangerous. Forces generated by excessive wheel speeds may cause (Continued)\\n\\ndamage, or even failure, of the axle and tires. A'),\n",
       " Document(metadata={'source': '../pdf_files/owner_manual_p283-p300.pdf'}, page_content=\"damage, or even failure, of the axle and tires. A\\n\\ntire could explode and injure someone. Do not spin your vehicle's wheels faster than 30 mph (48 km/h) or for longer than 30 seconds continuously without stopping when you are stuck and do not let anyone near a spinning wheel, no matter what the speed.\\n\\nTOWING A DISABLED VEHICLE\\n\\nThis section describes procedures for towing a disabled vehicle using a commercial towing service.\\n\\nIf the transmission and drivetrain are operable, disabled vehicles may also be towed as described on\\n\\n> page 198.\\n\\nNOTE:\\n\\nVehicles equipped with the Active-Level Four Corner Air Suspension System must be placed in Transport mode, before tying them down (from the body) on a trailer\\n\\nor flatbed truck > page 136. If the vehicle cannot\"),\n",
       " Document(metadata={'source': '../pdf_files/owner_manual_p283-p300.pdf'}, page_content='or flatbed truck > page 136. If the vehicle cannot\\n\\nbe placed in Transport mode (for example, engine will not run), tie-downs must be fastened to the axles (not to the body). Failure to follow these instructions may cause fault codes to be set and/or cause loss of proper tie-down tension.\\n\\nIN CASE OF EMERGENCY 297\\n\\nTowing Condition Wheels Off The Ground Two-Wheel Drive Models Four-Wheel Drive Models See Instructions @ Transmission in PARK Flat Tow NONE NOT ALLOWED @ Transfer case in N (Neutral) @ Tow in forward direction Dolly Tow Front NOT ALLOWED NOT ALLOWED y Rear OK NOT ALLOWED On Trailer ALL OK OK Proper towing or lifting equipment is required to CAUTION! the ground. An acceptable method to tow the vehicle on'),\n",
       " Document(metadata={'source': '../pdf_files/owner_manual_p283-p300.pdf'}, page_content=\"prevent damage to your vehicle. Use only tow bars and other equipment designed for this purpose, following equipment per FCA US LLC instructions. Use of safety chains is mandatory. Attach a tow bar or other towing device to main structural members of the vehicle, not to fascia/bumpers or associated brackets. State and local laws regarding vehicles under tow must be observed.\\n\\nIf you must use the accessories (wipers, defrosters, etc.) while being towed, the ignition must be in the ON/RUN mode, not the ACC mode.\\n\\nIf the key fob is unavailable or the vehicle's battery is discharged, find instructions on shifting the transmission out of PARK in order to move the vehicle\\n\\n> page 295.\\n\\nCAUTION!\\n\\n@ Do not use sling type equipment when towing. Vehicle damage may occur.\"),\n",
       " Document(metadata={'source': '../pdf_files/owner_manual_p283-p300.pdf'}, page_content='> page 295.\\n\\nCAUTION!\\n\\n@ Do not use sling type equipment when towing. Vehicle damage may occur.\\n\\n@ When securing the vehicle to a flatbed truck, do not attach to front or rear suspension\\n\\n(Continued)\\n\\ncomponents. Damage to your vehicle may result from improper towing.\\n\\nTwo-WreeL Drive MobeLs\\n\\nFCA US LLC recommends towing your vehicle with all four wheels OFF the ground using a flatbed.\\n\\nIf flatbed equipment is not available, and the transmission is operable, the vehicle may be towed (with front wheels on the ground) under the following conditions:\\n\\n@ The transmission must be in NEUTRAL (N). Instructions on shifting the transmission to NEUTRAL (N) when the engine is OFF page 295.\\n\\n@ The towing speed must not exceed 30 mph (48 km/h).\\n\\n@ The towing distance must not exceed 30 miles (48 km).'),\n",
       " Document(metadata={'source': '../pdf_files/owner_manual_p283-p300.pdf'}, page_content='@ The towing distance must not exceed 30 miles (48 km).\\n\\nIf the transmission is not operable, or the vehicle must\\n\\nbe towed faster than 30 mph (48 km/h) and farther than 30 miles (48 km), tow with the rear wheels OFF\\n\\na flatbed are as follows:\\n\\n@ Using a suitable steering wheel stabilizer to hold the front wheels in the straight position with the rear wheels raised and the front wheels ON the ground.\\n\\nCAUTION!\\n\\nTowing this vehicle in violation of the approved requirements can cause severe transmission damage. Damage from improper towing is not covered under the New Vehicle Limited Warranty.\\n\\nFour-WHEEL Drive MopeLs\\n\\nFCA US LLC recommends towing with all wheels OFF the ground.\\n\\nCAUTION!'),\n",
       " Document(metadata={'source': '../pdf_files/owner_manual_p283-p300.pdf'}, page_content='Four-WHEEL Drive MopeLs\\n\\nFCA US LLC recommends towing with all wheels OFF the ground.\\n\\nCAUTION!\\n\\n@ Front or rear wheel lifts must not be used (if the remaining wheels are on the ground). Internal damage to the transmission or transfer case will (Continued)\\n\\n298 IN CASE OF EMERGENCY\\n\\nCAUTION!\\n\\noccur if a front or rear wheel lift is used when towing.\\n\\n@ Towing this vehicle in violation of the approved requirements can cause severe transmission and/or transfer case damage. Damage from improper towing is not covered under the New Vehicle Limited Warranty.\\n\\nEmercency Tow Hooks — IF EquipPeD\\n\\nYour vehicle may be equipped with front and rear emergency tow hooks.\\n\\nNOTE:\\n\\nFor off-road recovery, it is recommended to always use both of the tow hooks to minimize the risk of damage to the vehicle.'),\n",
       " Document(metadata={'source': '../pdf_files/owner_manual_p283-p300.pdf'}, page_content='WARNING!\\n\\n@ Do not use a chain for freeing a stuck vehicle. Chains may break, causing serious injury or death.\\n\\n@ Stand clear of vehicles when pulling with tow hooks. Tow straps may become disengaged,\\n\\ncausing serious injury.\\n\\nCAUTIONI\\n\\nTow hooks are for emergency use only, to rescue a vehicle stranded off road. Do not use tow hooks for tow truck hookup or highway towing. You could damage your vehicle.\\n\\n|A0717000100US,\\n\\nFront Tow Hooks\\n\\nENHANCED ACCIDENT RESPONSE SYSTEM (EARS)\\n\\nThis vehicle is equipped with an Enhanced Accident Response System.\\n\\nThis feature is a communication network that takes effect in the event of an impact > page 267.\\n\\nEVENT DATA RECORDER (EDR)\\n\\nThis vehicle is equipped with an Event Data Recorder (EDR). The main purpose of an EDR is to record'),\n",
       " Document(metadata={'source': '../pdf_files/owner_manual_p283-p300.pdf'}, page_content='data that will assist in understanding how a vehicle’s systems performed under certain crash or near crash- like situations, such as an air bag deployment or hitting a road obstacle >> page 268.')]"
      ]
     },
     "execution_count": 35,
     "metadata": {},
     "output_type": "execute_result"
    }
   ],
   "source": [
    "chunks"
   ]
  },
  {
   "cell_type": "code",
   "execution_count": 5,
   "id": "efb11c92-e732-4a88-8f57-57a19b38e383",
   "metadata": {},
   "outputs": [
    {
     "name": "stderr",
     "output_type": "stream",
     "text": [
      "OllamaEmbeddings: 100%|██████████| 60/60 [00:10<00:00,  5.76it/s]\n"
     ]
    }
   ],
   "source": [
    "# Add to vector database\n",
    "vector_db = Chroma.from_documents(\n",
    "    documents=chunks, \n",
    "    embedding=OllamaEmbeddings(model=\"nomic-embed-text\",show_progress=True),\n",
    "    collection_name=\"local-rag\"\n",
    ")"
   ]
  },
  {
   "cell_type": "markdown",
   "id": "39eadf50-2f3d-4420-8858-94e9c1682ffa",
   "metadata": {},
   "source": [
    "## Retrieval"
   ]
  },
  {
   "cell_type": "code",
   "execution_count": 7,
   "id": "5ec338c4-f282-462f-b0a0-c1899538eb07",
   "metadata": {},
   "outputs": [],
   "source": [
    "from langchain.prompts import ChatPromptTemplate, PromptTemplate\n",
    "from langchain_core.output_parsers import StrOutputParser\n",
    "from langchain_community.chat_models import ChatOllama\n",
    "from langchain_core.runnables import RunnablePassthrough\n",
    "from langchain.retrievers.multi_query import MultiQueryRetriever"
   ]
  },
  {
   "cell_type": "code",
   "execution_count": 8,
   "id": "d1d6ceeb-6883-4688-b923-e771c2b2cb07",
   "metadata": {},
   "outputs": [],
   "source": [
    "# LLM from Ollama\n",
    "local_model = \"mistral\"\n",
    "llm = ChatOllama(model=local_model)"
   ]
  },
  {
   "cell_type": "code",
   "execution_count": 9,
   "id": "c436d5cd-5dd0-448c-b5c0-6eddab879c2a",
   "metadata": {},
   "outputs": [],
   "source": [
    "QUERY_PROMPT = PromptTemplate(\n",
    "    input_variables=[\"question\"],\n",
    "    template=\"\"\"You are an AI language model assistant. Your task is to generate five\n",
    "    different versions of the given user question to retrieve relevant documents from\n",
    "    a vector database. By generating multiple perspectives on the user question, your\n",
    "    goal is to help the user overcome some of the limitations of the distance-based\n",
    "    similarity search. Provide these alternative questions separated by newlines.\n",
    "    Original question: {question}\"\"\",\n",
    ")"
   ]
  },
  {
   "cell_type": "code",
   "execution_count": 10,
   "id": "71e423dc-f632-46f8-9bec-d74cb268ab74",
   "metadata": {},
   "outputs": [],
   "source": [
    "retriever = MultiQueryRetriever.from_llm(\n",
    "    vector_db.as_retriever(), \n",
    "    llm,\n",
    "    prompt=QUERY_PROMPT\n",
    ")\n",
    "\n",
    "# RAG prompt\n",
    "template = \"\"\"Answer the question based ONLY on the following context:\n",
    "{context}\n",
    "Question: {question}\n",
    "\"\"\"\n",
    "\n",
    "prompt = ChatPromptTemplate.from_template(template)"
   ]
  },
  {
   "cell_type": "code",
   "execution_count": 15,
   "id": "ccf48ac0",
   "metadata": {},
   "outputs": [
    {
     "name": "stderr",
     "output_type": "stream",
     "text": [
      "OllamaEmbeddings: 100%|██████████| 1/1 [00:02<00:00,  2.31s/it]\n",
      "OllamaEmbeddings: 100%|██████████| 1/1 [00:00<00:00, 14.60it/s]\n",
      "OllamaEmbeddings: 100%|██████████| 1/1 [00:00<00:00,  8.08it/s]\n",
      "OllamaEmbeddings: 100%|██████████| 1/1 [00:00<00:00,  8.41it/s]\n",
      "OllamaEmbeddings: 100%|██████████| 1/1 [00:00<00:00, 14.89it/s]\n"
     ]
    }
   ],
   "source": [
    "retrieve_docs = retriever.invoke('Where is located the hazard flashers button?') # get relevant documents"
   ]
  },
  {
   "cell_type": "code",
   "execution_count": 16,
   "id": "8c37da79",
   "metadata": {},
   "outputs": [
    {
     "data": {
      "text/plain": [
       "[Document(metadata={'source': '../pdf_files/owner_manual_p283-p300.pdf'}, page_content='282 IN CASE OF EMERGENCY\\n\\nIN CASE OF EMERGENCY\\n\\nHAZARD WARNING FLASHERS\\n\\nThe Hazard Warning Flashers button is located on the upper switch bank just below the radio.\\n\\nHazard Warning Flashers Button\\n\\nNOTE:\\n\\nIf your vehicle is equipped with a 12-inch Uconnect display, the Hazard Warning Flashers button is located above the display.\\n\\nHazard Warning Flashers Button with 12-inch display\\n\\nNOTE:\\n\\nIf your vehicle is equipped with a 14.5-inch Uconnect display, the Hazard Warning Flashers button is located to the left of the display.\\n\\nHazard Warning Flashers Button with 14.5-inch display'),\n",
       " Document(metadata={'source': '../pdf_files/owner_manual_p283-p300.pdf'}, page_content='Hazard Warning Flashers Button with 14.5-inch display\\n\\nPush the button to turn on the Hazard Warning Flashers. When the button is activated, all directional turn signals will flash on and off to warn oncoming, traffic of an emergency. Push the button a second time ‘to turn off the Hazard Warning Flashers.\\n\\nThis is an emergency warning system and it should not be used when the vehicle is in motion. Use only when your vehicle is disabled or signaling a safety hazard warning for other motorists.\\n\\nWhen leaving the vehicle to seek assistance, the\\n\\nHazard Warning Flashers will continue to operate even though the ignition is placed in the OFF position.\\n\\nNOTE: With extended use the Hazard Warning Flashers may wear down your battery.\\n\\nASSIST AND SOS SYSTEM — IF EQUIPPED\\n\\n‘A0703000080US'),\n",
       " Document(metadata={'source': '../pdf_files/owner_manual_p283-p300.pdf'}, page_content=\"not in use (i.e., cellular devices, etc.). Eventually, if plugged in long enough without engine operation, the vehicle’s battery will discharge sufficiently to degrade battery life and/or prevent the engine from starting.\\n\\nREFUELING IN EMERGENCY\\n\\nThe vehicle is equipped with a refueling funnel for a capless fuel system. The refueling funnel is located under the passenger's seat along with the jack and\\n\\n294 IN CASE OF EMERGENCY\\n\\ntools. If refueling is necessary, while using an approved gas can, insert the refueling funnel into the filler neck opening. Take care to open both flappers with the funnel to avoid spills.\\n\\nFuel Funnel Location\\n\\nNOTE:\"),\n",
       " Document(metadata={'source': '../pdf_files/owner_manual_p283-p300.pdf'}, page_content='ASSIST AND SOS SYSTEM — IF EQUIPPED\\n\\n‘A0703000080US\\n\\nASSIST And SOS Buttons\\n\\n1—ASSIST Button 2—SOS Button\\n\\nIf equipped, the overhead console contains an ASSIST and an SOS button.\\n\\nWARNING!\\n\\nALWAYS obey traffic laws and pay attention to the road. ALWAYS drive safely with your hands on the steering wheel. You have full responsibility and assume all risks related to the use of the features and applications in this vehicle. Only use the features and applications when it is safe to do so. Failure to do so may result in an accident involving serious injury or death.\\n\\nNOTE:\\n\\n@ Your vehicle may be transmitting data as authorized by the subscriber >> page 357.'),\n",
       " Document(metadata={'source': '../pdf_files/owner_manual_p283-p300.pdf'}, page_content='WARNING!\\n\\n@ If anyone in the vehicle could be in danger (e.g., fire or smoke is visible, dangerous road conditions or location), do not wait for voice contact from an Emergency Services Agent. All occupants should exit the vehicle immediately and move to a safe location.\\n\\n@ Never place anything on or near the vehicle’s operable network and GPS antennas. You could prevent operable network and GPS signal reception, which can prevent your vehicle from placing an emergency call. An operable network and GPS signal reception is required for the SOS Call system to function properly.\\n\\n@ The SOS Call system is embedded into the vehicle’s electrical system. Do not add aftermarket electrical equipment to the vehicle’s electrical system. This may prevent your vehicle from\\n\\n(Continued)\\n\\nWARNING!'),\n",
       " Document(metadata={'source': '../pdf_files/owner_manual_p283-p300.pdf'}, page_content='WARNING! 4. Connect the opposite end of the negative (-) . jumper cable to a good engine ground. A “ground’ an inadvertent electrical contact. You could be is an exposed metallic/unpainted part of the seriously injured. engine, frame or chassis, such as an accessory © Batteries contain sulfuric acid that can burn your bracket or large bolt. The ground must be away skin or eyes and generate hydrogen gas which is from the battery and the fuel injection system. flammable and explosive. Keep open flames or sparks away from the battery. Jump STarTING PROCEDURE WARNING! Failure to follow this jump starting procedure could result in personal injury or property damage due to battery explosion. CAUTIONI Jump Starting Label Failure to follow these procedures could result in WARNING! damage to the'),\n",
       " Document(metadata={'source': '../pdf_files/owner_manual_p283-p300.pdf'}, page_content=\"Shift the transmission into PARK (P). Turn the ignition OFF.\\n\\noa FWD\\n\\nBlock both front and rear of the wheel diagonally opposite of the jacking position. For example, if the driver's front wheel is being changed, block the passenger's rear wheel.\\n\\n‘Ao707001133US\\n\\nWheel Blocked Example\\n\\nNOTE: Passengers should not remain in the vehicle when the vehicle is being raised or lifted.\\n\\n286 IN CASE OF EMERGENCY\\n\\nJack LocaTion\\n\\nThe jack and tools are stored under the front passenger seat.\\n\\nRemova OF Jack AND TooLs\"),\n",
       " Document(metadata={'source': '../pdf_files/owner_manual_p283-p300.pdf'}, page_content=\"prevent damage to your vehicle. Use only tow bars and other equipment designed for this purpose, following equipment per FCA US LLC instructions. Use of safety chains is mandatory. Attach a tow bar or other towing device to main structural members of the vehicle, not to fascia/bumpers or associated brackets. State and local laws regarding vehicles under tow must be observed.\\n\\nIf you must use the accessories (wipers, defrosters, etc.) while being towed, the ignition must be in the ON/RUN mode, not the ACC mode.\\n\\nIf the key fob is unavailable or the vehicle's battery is discharged, find instructions on shifting the transmission out of PARK in order to move the vehicle\\n\\n> page 295.\\n\\nCAUTION!\\n\\n@ Do not use sling type equipment when towing. Vehicle damage may occur.\")]"
      ]
     },
     "execution_count": 16,
     "metadata": {},
     "output_type": "execute_result"
    }
   ],
   "source": [
    "retrieve_docs"
   ]
  },
  {
   "cell_type": "code",
   "execution_count": 17,
   "id": "97d912fb",
   "metadata": {},
   "outputs": [
    {
     "data": {
      "text/plain": [
       "8"
      ]
     },
     "execution_count": 17,
     "metadata": {},
     "output_type": "execute_result"
    }
   ],
   "source": [
    "len(retrieve_docs)"
   ]
  },
  {
   "cell_type": "code",
   "execution_count": 21,
   "id": "d784e8b9",
   "metadata": {},
   "outputs": [
    {
     "data": {
      "text/markdown": [
       "Hazard Warning Flashers Button with 14.5-inch display\n",
       "\n",
       "Push the button to turn on the Hazard Warning Flashers. When the button is activated, all directional turn signals will flash on and off to warn oncoming, traffic of an emergency. Push the button a second time ‘to turn off the Hazard Warning Flashers.\n",
       "\n",
       "This is an emergency warning system and it should not be used when the vehicle is in motion. Use only when your vehicle is disabled or signaling a safety hazard warning for other motorists.\n",
       "\n",
       "When leaving the vehicle to seek assistance, the\n",
       "\n",
       "Hazard Warning Flashers will continue to operate even though the ignition is placed in the OFF position.\n",
       "\n",
       "NOTE: With extended use the Hazard Warning Flashers may wear down your battery.\n",
       "\n",
       "ASSIST AND SOS SYSTEM — IF EQUIPPED\n",
       "\n",
       "‘A0703000080US"
      ],
      "text/plain": [
       "<IPython.core.display.Markdown object>"
      ]
     },
     "metadata": {},
     "output_type": "display_data"
    }
   ],
   "source": [
    "view_text_in_markdown(retrieve_docs[1].page_content)"
   ]
  },
  {
   "cell_type": "code",
   "execution_count": 23,
   "id": "cb1f308f-8472-4506-9517-d79b61d408f2",
   "metadata": {},
   "outputs": [],
   "source": [
    "chain = (\n",
    "    {\"context\": retriever, \"question\": RunnablePassthrough()}\n",
    "    | prompt\n",
    "    | llm\n",
    "    | StrOutputParser()\n",
    ")"
   ]
  },
  {
   "cell_type": "code",
   "execution_count": 25,
   "id": "06c25c1d-d205-409e-90a2-179d0bd7c41a",
   "metadata": {},
   "outputs": [
    {
     "name": "stderr",
     "output_type": "stream",
     "text": [
      "OllamaEmbeddings: 100%|██████████| 1/1 [00:00<00:00,  7.27it/s]\n",
      "OllamaEmbeddings: 100%|██████████| 1/1 [00:00<00:00, 15.47it/s]\n",
      "OllamaEmbeddings: 100%|██████████| 1/1 [00:00<00:00,  5.61it/s]\n",
      "OllamaEmbeddings: 100%|██████████| 1/1 [00:00<00:00, 14.09it/s]\n",
      "OllamaEmbeddings: 100%|██████████| 1/1 [00:00<00:00,  8.18it/s]\n"
     ]
    }
   ],
   "source": [
    "resposta = chain.invoke(\"Where is located the hazard flashers button?\")"
   ]
  },
  {
   "cell_type": "code",
   "execution_count": 26,
   "id": "4c9b8a33",
   "metadata": {},
   "outputs": [
    {
     "data": {
      "text/markdown": [
       " The Hazard Warning Flashers button can be located on the upper switch bank just below the radio, above the 12-inch Uconnect display, or to the left of the 14.5-inch Uconnect display depending on the vehicle's equipment."
      ],
      "text/plain": [
       "<IPython.core.display.Markdown object>"
      ]
     },
     "metadata": {},
     "output_type": "display_data"
    }
   ],
   "source": [
    "view_text_in_markdown(resposta)"
   ]
  },
  {
   "cell_type": "code",
   "execution_count": null,
   "id": "dfe79f21-48aa-4820-aa9f-79f3d1a0a519",
   "metadata": {},
   "outputs": [],
   "source": [
    "# Delete all collections in the db\n",
    "vector_db.delete_collection()"
   ]
  }
 ],
 "metadata": {
  "kernelspec": {
   "display_name": "Python 3 (ipykernel)",
   "language": "python",
   "name": "python3"
  },
  "language_info": {
   "codemirror_mode": {
    "name": "ipython",
    "version": 3
   },
   "file_extension": ".py",
   "mimetype": "text/x-python",
   "name": "python",
   "nbconvert_exporter": "python",
   "pygments_lexer": "ipython3",
   "version": "3.10.12"
  }
 },
 "nbformat": 4,
 "nbformat_minor": 5
}
