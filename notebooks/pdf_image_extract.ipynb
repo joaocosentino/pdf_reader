{
 "cells": [
  {
   "cell_type": "markdown",
   "metadata": {},
   "source": [
    "## PDF Image Extractor"
   ]
  },
  {
   "cell_type": "markdown",
   "metadata": {},
   "source": [
    "### 1. Libs Import"
   ]
  },
  {
   "cell_type": "code",
   "execution_count": 1,
   "metadata": {},
   "outputs": [],
   "source": [
    "import pandas as pd\n",
    "import numpy as np\n",
    "import matplotlib.pyplot as plt\n",
    "import io\n",
    "import PIL\n",
    "import os\n",
    "import fitz"
   ]
  },
  {
   "cell_type": "code",
   "execution_count": 16,
   "metadata": {},
   "outputs": [],
   "source": [
    "pdf_path = '/home/joaocosentino/user_manual/pdf_files/Owners_Manual-Ram_1500_25_Crew_Cab.pdf'\n",
    "dir = \"/home/joaocosentino/user_manual/images\""
   ]
  },
  {
   "cell_type": "code",
   "execution_count": 35,
   "metadata": {},
   "outputs": [],
   "source": [
    "\n",
    "def get_pdf_images(pdf,folder):\n",
    "    os.makedirs(folder,exist_ok=True)\n",
    "    pdf = fitz.open(pdf_path)\n",
    "\n",
    "    for page in range(pdf.page_count):\n",
    "\n",
    "        imgs_list = pdf[page].get_images(full=True)\n",
    "\n",
    "        if imgs_list:\n",
    "\n",
    "            for index,img in enumerate(imgs_list,start=1):\n",
    "                xref = img[0]\n",
    "                base_image = pdf.extract_image(xref)\n",
    "\n",
    "                with PIL.Image.open(io.BytesIO(base_image.get('image'))) as image:\n",
    "                    if base_image.get('ext') == 'jpx':\n",
    "                        image.convert('RGB')\n",
    "                        image.save(f'{folder}/{page}-{index}.png',format='PNG')\n",
    "                    else:\n",
    "                        image.save(f'{folder}/{page}-{index}.{base_image.get(\"ext\")}')\n"
   ]
  },
  {
   "cell_type": "code",
   "execution_count": 36,
   "metadata": {},
   "outputs": [],
   "source": [
    "get_pdf_images(pdf_path,dir)"
   ]
  }
 ],
 "metadata": {
  "kernelspec": {
   "display_name": "Python 3",
   "language": "python",
   "name": "python3"
  },
  "language_info": {
   "codemirror_mode": {
    "name": "ipython",
    "version": 3
   },
   "file_extension": ".py",
   "mimetype": "text/x-python",
   "name": "python",
   "nbconvert_exporter": "python",
   "pygments_lexer": "ipython3",
   "version": "3.10.6"
  }
 },
 "nbformat": 4,
 "nbformat_minor": 2
}
