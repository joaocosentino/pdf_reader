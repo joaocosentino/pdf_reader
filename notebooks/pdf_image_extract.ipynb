{
 "cells": [
  {
   "cell_type": "markdown",
   "metadata": {},
   "source": [
    "## PDF Image Extractor"
   ]
  },
  {
   "cell_type": "markdown",
   "metadata": {},
   "source": [
    "### 1. Libs Import"
   ]
  },
  {
   "cell_type": "code",
   "execution_count": 6,
   "metadata": {},
   "outputs": [],
   "source": [
    "import pandas as pd\n",
    "import numpy as np\n",
    "import matplotlib.pyplot as plt\n",
    "import io\n",
    "import PIL\n",
    "import os\n",
    "import fitz"
   ]
  },
  {
   "cell_type": "code",
   "execution_count": 3,
   "metadata": {},
   "outputs": [
    {
     "data": {
      "text/plain": [
       "'/home/joaocosentino/user_manual/notebooks'"
      ]
     },
     "execution_count": 3,
     "metadata": {},
     "output_type": "execute_result"
    }
   ],
   "source": [
    "os.getcwd()"
   ]
  },
  {
   "cell_type": "code",
   "execution_count": 9,
   "metadata": {},
   "outputs": [],
   "source": [
    "pdf_path = '../pdf_files/owner_manual_full.pdf'\n",
    "dir = \"../images\"\n",
    "short_pdf = \"../pdf_files/owner_manual_p283-p300.pdf\""
   ]
  },
  {
   "cell_type": "code",
   "execution_count": 26,
   "metadata": {},
   "outputs": [],
   "source": [
    "import PIL.ImageOps\n",
    "\n",
    "\n",
    "def get_pdf_images(pdf,folder):\n",
    "    os.makedirs(folder,exist_ok=True)\n",
    "    pdf = fitz.open(pdf)\n",
    "    for page in range(pdf.page_count):\n",
    "\n",
    "        imgs_list = pdf[page].get_images(full=True)\n",
    "\n",
    "        if imgs_list:\n",
    "\n",
    "            for index,img in enumerate(imgs_list,start=1):\n",
    "                xref = img[0]\n",
    "                base_image = pdf.extract_image(xref)\n",
    "\n",
    "                size = io.BytesIO(base_image.get('image'))\n",
    "                size = (size.getbuffer().nbytes) / 1024\n",
    "\n",
    "                if size <= 400:\n",
    "                    with PIL.Image.open(io.BytesIO(base_image.get('image'))) as image:\n",
    "\n",
    "                        # if base_image.get('ext') == 'jpx':\n",
    "                        #     invert_img = PIL.ImageOps.invert(image.convert('RGB'))\n",
    "                        #     invert_img.save(f'{folder}/{page}-{index}.png',format='PNG')\n",
    "                        # else:\n",
    "                        image.save(f'{folder}/{page}-{index}.{base_image.get(\"ext\")}')\n"
   ]
  },
  {
   "cell_type": "code",
   "execution_count": 27,
   "metadata": {},
   "outputs": [],
   "source": [
    "get_pdf_images(short_pdf,dir)"
   ]
  },
  {
   "cell_type": "code",
   "execution_count": 22,
   "metadata": {},
   "outputs": [
    {
     "name": "stdout",
     "output_type": "stream",
     "text": [
      "Page 0 saved as a PNG image.\n",
      "Page 1 saved as a PNG image.\n",
      "Page 2 saved as a PNG image.\n",
      "Page 3 saved as a PNG image.\n",
      "Page 4 saved as a PNG image.\n",
      "Page 5 saved as a PNG image.\n",
      "Page 6 saved as a PNG image.\n",
      "Page 7 saved as a PNG image.\n",
      "Page 8 saved as a PNG image.\n",
      "Page 9 saved as a PNG image.\n",
      "Page 10 saved as a PNG image.\n",
      "Page 11 saved as a PNG image.\n",
      "Page 12 saved as a PNG image.\n",
      "Page 13 saved as a PNG image.\n",
      "Page 14 saved as a PNG image.\n",
      "Page 15 saved as a PNG image.\n",
      "Page 16 saved as a PNG image.\n"
     ]
    }
   ],
   "source": [
    "# Open the PDF file\n",
    "\n",
    "pdf_document = fitz.open(short_pdf)\n",
    "\n",
    "# Specify the DPI (higher DPI means better quality, but larger image size)\n",
    "zoom_x = 2.0  # Horizontal zoom (2.0 = 200 DPI)\n",
    "zoom_y = 2.0  # Vertical zoom (2.0 = 200 DPI)\n",
    "mat = fitz.Matrix(zoom_x, zoom_y)\n",
    "\n",
    "for page_num in range(len(pdf_document)):\n",
    "    page = pdf_document.load_page(page_num)\n",
    "    pix = page.get_pixmap(matrix=mat)  # Render the page to a high-resolution image\n",
    "\n",
    "    # Save the rendered image\n",
    "    pix.save(f\"page_{page_num}.png\")\n",
    "    print(f\"Page {page_num} saved as a PNG image.\")"
   ]
  }
 ],
 "metadata": {
  "kernelspec": {
   "display_name": "Python 3",
   "language": "python",
   "name": "python3"
  },
  "language_info": {
   "codemirror_mode": {
    "name": "ipython",
    "version": 3
   },
   "file_extension": ".py",
   "mimetype": "text/x-python",
   "name": "python",
   "nbconvert_exporter": "python",
   "pygments_lexer": "ipython3",
   "version": "3.10.6"
  }
 },
 "nbformat": 4,
 "nbformat_minor": 2
}
